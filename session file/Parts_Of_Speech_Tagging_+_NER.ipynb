{
 "cells": [
  {
   "cell_type": "markdown",
   "metadata": {
    "id": "AVOJYZEM6GG0"
   },
   "source": [
    "### Parts Of Speech Tags"
   ]
  },
  {
   "cell_type": "markdown",
   "metadata": {
    "id": "R2T79utRfqUF"
   },
   "source": [
    "CC coordinating conjunction\n",
    "CD cardinal digit\n",
    "DT determiner\n",
    "EX existential there (like: “there is” … think of it like “there exists”)\n",
    "FW foreign word\n",
    "IN preposition/subordinating conjunction\n",
    "JJ adjective – ‘big’\n",
    "JJR adjective, comparative – ‘bigger’\n",
    "JJS adjective, superlative – ‘biggest’\n",
    "LS list marker 1)\n",
    "MD modal – could, will\n",
    "NN noun, singular ‘- desk’\n",
    "NNS noun plural – ‘desks’\n",
    "NNP proper noun, singular – ‘Harrison’\n",
    "NNPS proper noun, plural – ‘Americans’\n",
    "PDT predeterminer – ‘all the kids’\n",
    "POS possessive ending parent’s\n",
    "PRP personal pronoun –  I, he, she\n",
    "PRP$ possessive pronoun – my, his, hers\n",
    "RB adverb – very, silently,\n",
    "RBR adverb, comparative – better\n",
    "RBS adverb, superlative – best\n",
    "RP particle – give up\n",
    "TO – to go ‘to’ the store.\n",
    "UH interjection – errrrrrrrm\n",
    "VB verb, base form – take\n",
    "VBD verb, past tense – took\n",
    "VBG verb, gerund/present participle – taking\n",
    "VBN verb, past participle – taken\n",
    "VBP verb, sing. present, non-3d – take\n",
    "VBZ verb, 3rd person sing. present – takes\n",
    "WDT wh-determiner – which\n",
    "WP wh-pronoun – who, what\n",
    "WP$ possessive wh-pronoun, eg- whose\n",
    "WRB wh-adverb, eg- where, when"
   ]
  },
  {
   "cell_type": "markdown",
   "metadata": {
    "id": "Pgv6q_-e6GG1"
   },
   "source": [
    "\"Taj Mahal is a beautiful Monument\""
   ]
  },
  {
   "cell_type": "raw",
   "metadata": {
    "id": "qD9OeOEF6GG2"
   },
   "source": [
    "CC coordinating conjunction\n",
    "CD cardinal digit\n",
    "DT determiner\n",
    "EX existential there (like: “there is” … think of it like “there exists”)\n",
    "FW foreign word\n",
    "IN preposition/subordinating conjunction\n",
    "JJ adjective – ‘big’\n",
    "JJR adjective, comparative – ‘bigger’\n",
    "JJS adjective, superlative – ‘biggest’\n",
    "LS list marker 1)\n",
    "MD modal – could, will\n",
    "NN noun, singular ‘- desk’\n",
    "NNS noun plural – ‘desks’\n",
    "NNP proper noun, singular – ‘Harrison’\n",
    "NNPS proper noun, plural – ‘Americans’\n",
    "PDT predeterminer – ‘all the kids’\n",
    "POS possessive ending parent’s\n",
    "PRP personal pronoun –  I, he, she\n",
    "PRP$ possessive pronoun – my, his, hers\n",
    "RB adverb – very, silently,\n",
    "RBR adverb, comparative – better\n",
    "RBS adverb, superlative – best\n",
    "RP particle – give up\n",
    "TO – to go ‘to’ the store.\n",
    "UH interjection – errrrrrrrm\n",
    "VB verb, base form – take\n",
    "VBD verb, past tense – took\n",
    "VBG verb, gerund/present participle – taking\n",
    "VBN verb, past participle – taken\n",
    "VBP verb, sing. present, non-3d – take\n",
    "VBZ verb, 3rd person sing. present – takes\n",
    "WDT wh-determiner – which\n",
    "WP wh-pronoun – who, what\n",
    "WP$ possessive wh-pronoun, eg- whose\n",
    "WRB wh-adverb, eg- where, when"
   ]
  },
  {
   "cell_type": "code",
   "execution_count": null,
   "metadata": {
    "id": "vHWGqYl-6GG2"
   },
   "outputs": [],
   "source": [
    "## Speech Of DR APJ Abdul Kalam\n",
    "paragraph = \"\"\"I have three visions for India. In 3000 years of our history, people from all over\n",
    "               the world have come and invaded us, captured our lands, conquered our minds.\n",
    "               From Alexander onwards, the Greeks, the Turks, the Moguls, the Portuguese, the British,\n",
    "               the French, the Dutch, all of them came and looted us, took over what was ours.\n",
    "               Yet we have not done this to any other nation. We have not conquered anyone.\n",
    "               We have not grabbed their land, their culture,\n",
    "               their history and tried to enforce our way of life on them.\n",
    "               Why? Because we respect the freedom of others.That is why my\n",
    "               first vision is that of freedom. I believe that India got its first vision of\n",
    "               this in 1857, when we started the War of Independence. It is this freedom that\n",
    "               we must protect and nurture and build on. If we are not free, no one will respect us.\n",
    "               My second vision for India’s development. For fifty years we have been a developing nation.\n",
    "               It is time we see ourselves as a developed nation. We are among the top 5 nations of the world\n",
    "               in terms of GDP. We have a 10 percent growth rate in most areas. Our poverty levels are falling.\n",
    "               Our achievements are being globally recognised today. Yet we lack the self-confidence to\n",
    "               see ourselves as a developed nation, self-reliant and self-assured. Isn’t this incorrect?\n",
    "               I have a third vision. India must stand up to the world. Because I believe that unless India\n",
    "               stands up to the world, no one will respect us. Only strength respects strength. We must be\n",
    "               strong not only as a military power but also as an economic power. Both must go hand-in-hand.\n",
    "               My good fortune was to have worked with three great minds. Dr. Vikram Sarabhai of the Dept. of\n",
    "               space, Professor Satish Dhawan, who succeeded him and Dr. Brahm Prakash, father of nuclear material.\n",
    "               I was lucky to have worked with all three of them closely and consider this the great opportunity of my life.\n",
    "               I see four milestones in my career\"\"\""
   ]
  },
  {
   "cell_type": "code",
   "execution_count": null,
   "metadata": {
    "colab": {
     "base_uri": "https://localhost:8080/"
    },
    "id": "3cl0-KurgZiT",
    "outputId": "55e8f460-683f-46d9-f153-a09dc7a41cd6"
   },
   "outputs": [],
   "source": [
    "nltk.download('punkt')"
   ]
  },
  {
   "cell_type": "code",
   "execution_count": null,
   "metadata": {
    "id": "jDyIJGoCgKrM"
   },
   "outputs": [],
   "source": [
    "import nltk\n",
    "from nltk.corpus import stopwords\n",
    "sentences=nltk.sent_tokenize(paragraph)"
   ]
  },
  {
   "cell_type": "code",
   "execution_count": null,
   "metadata": {
    "colab": {
     "base_uri": "https://localhost:8080/"
    },
    "id": "asYyPl4OgV_C",
    "outputId": "d731396a-ab37-4b2a-ebf5-58d0352fce50"
   },
   "outputs": [],
   "source": [
    "print(sentences)"
   ]
  },
  {
   "cell_type": "code",
   "execution_count": null,
   "metadata": {
    "colab": {
     "base_uri": "https://localhost:8080/"
    },
    "id": "w69D0ngAgXWW",
    "outputId": "5fef7d0a-17ff-412f-873e-15eda3b15984"
   },
   "outputs": [],
   "source": [
    "nltk.download('averaged_perceptron_tagger')"
   ]
  },
  {
   "cell_type": "code",
   "execution_count": null,
   "metadata": {
    "colab": {
     "base_uri": "https://localhost:8080/"
    },
    "id": "um9gHRoqhYJP",
    "outputId": "237a6327-0868-4bef-ab44-e7e9963986c4"
   },
   "outputs": [],
   "source": [
    "nltk.download('stopwords')"
   ]
  },
  {
   "cell_type": "code",
   "execution_count": null,
   "metadata": {
    "colab": {
     "base_uri": "https://localhost:8080/"
    },
    "id": "7AeAwiyYgoIW",
    "outputId": "746af791-4962-48d4-ee36-c0cdb672df70"
   },
   "outputs": [],
   "source": [
    "for i in range(len(sentences)):\n",
    "  words=nltk.word_tokenize(sentences[i])\n",
    "  words=[word for word in words if word not in set(stopwords.words('english'))]\n",
    "  pos_tags=nltk.pos_tag(words)\n",
    "print(pos_tags)"
   ]
  },
  {
   "cell_type": "markdown",
   "metadata": {
    "id": "GYe4ATt7jChF"
   },
   "source": [
    "### NER (Named Entity Recognition)"
   ]
  },
  {
   "cell_type": "code",
   "execution_count": null,
   "metadata": {
    "id": "biFAKZfMhUuZ"
   },
   "outputs": [],
   "source": [
    "### NER (Named Entity Recognition)\n",
    "paragraph='''The Eiffel Tower was built from 1887 to 1889 by French Engineer, whose company specialized inbuilding metal frameworks\n",
    "and structures. India.'''\n",
    "words=nltk.word_tokenize(paragraph)"
   ]
  },
  {
   "cell_type": "code",
   "execution_count": null,
   "metadata": {
    "colab": {
     "base_uri": "https://localhost:8080/"
    },
    "id": "2j93fOn4kg_u",
    "outputId": "07c8062f-e679-4258-9b9d-0a8ea764abb6"
   },
   "outputs": [],
   "source": [
    "words"
   ]
  },
  {
   "cell_type": "code",
   "execution_count": null,
   "metadata": {
    "id": "9Pigta_HjUjo"
   },
   "outputs": [],
   "source": [
    "tag_elements=nltk.pos_tag(words)"
   ]
  },
  {
   "cell_type": "code",
   "execution_count": null,
   "metadata": {
    "colab": {
     "base_uri": "https://localhost:8080/"
    },
    "id": "YBcV5vUMjMsL",
    "outputId": "cfc69bcd-0213-461b-d07b-f76fa2420e8b"
   },
   "outputs": [],
   "source": [
    "nltk.download('maxent_ne_chunker')"
   ]
  },
  {
   "cell_type": "code",
   "execution_count": null,
   "metadata": {
    "colab": {
     "base_uri": "https://localhost:8080/"
    },
    "id": "2xxToavajdnu",
    "outputId": "65a16805-1f7a-4861-8f0d-d558d95a3f2f"
   },
   "outputs": [],
   "source": [
    "nltk.download('words')"
   ]
  },
  {
   "cell_type": "code",
   "execution_count": null,
   "metadata": {
    "colab": {
     "base_uri": "https://localhost:8080/"
    },
    "id": "FIDPJz5nklyN",
    "outputId": "7641352c-9192-42f8-b4c5-18b45067a378"
   },
   "outputs": [],
   "source": [
    "!pip install svgling"
   ]
  },
  {
   "cell_type": "code",
   "execution_count": null,
   "metadata": {
    "colab": {
     "base_uri": "https://localhost:8080/",
     "height": 209
    },
    "id": "QNqip2zzjkck",
    "outputId": "19bc9912-5f39-4198-d433-f8740780dba1"
   },
   "outputs": [],
   "source": [
    "nltk.ne_chunk(tag_elements)"
   ]
  },
  {
   "cell_type": "code",
   "execution_count": null,
   "metadata": {
    "id": "F3v6XAY5jqQ_"
   },
   "outputs": [],
   "source": []
  }
 ],
 "metadata": {
  "colab": {
   "provenance": []
  },
  "kernelspec": {
   "display_name": "Python 3 (ipykernel)",
   "language": "python",
   "name": "python3"
  },
  "language_info": {
   "codemirror_mode": {
    "name": "ipython",
    "version": 3
   },
   "file_extension": ".py",
   "mimetype": "text/x-python",
   "name": "python",
   "nbconvert_exporter": "python",
   "pygments_lexer": "ipython3",
   "version": "3.11.5"
  }
 },
 "nbformat": 4,
 "nbformat_minor": 1
}
