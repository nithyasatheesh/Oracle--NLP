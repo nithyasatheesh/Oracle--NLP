{
 "cells": [
  {
   "cell_type": "code",
   "execution_count": 3,
   "metadata": {
    "id": "Z6uoER2_q_4m"
   },
   "outputs": [],
   "source": [
    "str2= \"\"\"Time and Date\n",
    "https://www.timeanddate.com ›       timer\n",
    "Create a Countdown Timer that counts down in seconds,\n",
    "\n",
    "\n",
    "minutes, hours and days to any date, with time zone support. It also counts up from a past date.\"\"\""
   ]
  },
  {
   "cell_type": "code",
   "execution_count": null,
   "metadata": {
    "colab": {
     "base_uri": "https://localhost:8080/",
     "height": 72
    },
    "id": "OjbbipdurdHU",
    "outputId": "e23f6334-15fb-4cf5-ce3f-fa87aa818d9e"
   },
   "outputs": [],
   "source": [
    "str2"
   ]
  },
  {
   "cell_type": "markdown",
   "metadata": {
    "id": "Bd8TWHG3ryxQ"
   },
   "source": [
    "### Regular expression\n"
   ]
  },
  {
   "cell_type": "code",
   "execution_count": 1,
   "metadata": {
    "id": "pZBjjlSIrdt4"
   },
   "outputs": [],
   "source": [
    "import re"
   ]
  },
  {
   "cell_type": "code",
   "execution_count": null,
   "metadata": {
    "id": "HAGdoua_r91X"
   },
   "outputs": [],
   "source": [
    "# re.findall(), re.search(), re.match()\n",
    "#re.compile()\n",
    "#re.sub()--> replace\n",
    "#re.split()"
   ]
  },
  {
   "cell_type": "markdown",
   "metadata": {
    "id": "lGAxo3D1tC1b"
   },
   "source": [
    "#### +  =one or more occurences\n",
    "#### *  =zero or more occurences\n",
    "#### {}  limited {2} 2 occurences\n",
    "#### Repeaters"
   ]
  },
  {
   "cell_type": "code",
   "execution_count": 4,
   "metadata": {
    "colab": {
     "base_uri": "https://localhost:8080/",
     "height": 72
    },
    "id": "ealGCGNRr5Z9",
    "outputId": "3d34f556-a9e1-45bb-d6ef-f8ff88f29614"
   },
   "outputs": [
    {
     "data": {
      "text/plain": [
       "'Time and Date https://www.timeanddate.com › timer Create a Countdown Timer that counts down in seconds, minutes, hours and days to any date, with time zone support. It also counts up from a past date.'"
      ]
     },
     "execution_count": 4,
     "metadata": {},
     "output_type": "execute_result"
    }
   ],
   "source": [
    "re.sub(\"\\s+\",\" \",str2)  #\\s--> white space"
   ]
  },
  {
   "cell_type": "code",
   "execution_count": 5,
   "metadata": {
    "id": "6Ls7C3lbttgX"
   },
   "outputs": [],
   "source": [
    "str2= \"\"\"Time and Date https://www.timeanddate.com › 13/06/2024      timer\n",
    "Create a Countdown Timer that counts down in seconds,\n",
    "hello, helllllo,heeelo,9876543217,9087654432\n",
    "\n",
    "minutes, hours and days to any date, with time zone support. It also counts up from a past date.\"\"\""
   ]
  },
  {
   "cell_type": "code",
   "execution_count": 6,
   "metadata": {
    "colab": {
     "base_uri": "https://localhost:8080/"
    },
    "id": "VQ2lOz7ruLa2",
    "outputId": "001caf26-a9a3-4154-90a3-775bed70e82a"
   },
   "outputs": [
    {
     "data": {
      "text/plain": [
       "['hello']"
      ]
     },
     "execution_count": 6,
     "metadata": {},
     "output_type": "execute_result"
    }
   ],
   "source": [
    "re.findall('hello',str2)"
   ]
  },
  {
   "cell_type": "code",
   "execution_count": 7,
   "metadata": {
    "colab": {
     "base_uri": "https://localhost:8080/"
    },
    "id": "UzzuDAwguWiE",
    "outputId": "f970891b-0c68-472f-f46b-785290ffb0b3"
   },
   "outputs": [
    {
     "data": {
      "text/plain": [
       "['hello', 'helllllo', 'heeelo']"
      ]
     },
     "execution_count": 7,
     "metadata": {},
     "output_type": "execute_result"
    }
   ],
   "source": [
    "re.findall(\"[hello]{4,10}\",str2)  # {}: quantifier-{min,max}"
   ]
  },
  {
   "cell_type": "code",
   "execution_count": 8,
   "metadata": {
    "colab": {
     "base_uri": "https://localhost:8080/"
    },
    "id": "jO0eU3K1uetN",
    "outputId": "8f3efe76-1b14-4869-9f63-4c4346498376"
   },
   "outputs": [
    {
     "data": {
      "text/plain": [
       "['9876543217', '9087654432']"
      ]
     },
     "execution_count": 8,
     "metadata": {},
     "output_type": "execute_result"
    }
   ],
   "source": [
    "# finding the digits\n",
    "re.findall(\"\\d{10}\",str2)"
   ]
  },
  {
   "cell_type": "code",
   "execution_count": 9,
   "metadata": {
    "colab": {
     "base_uri": "https://localhost:8080/",
     "height": 36
    },
    "id": "z_sgL8LjwUT1",
    "outputId": "157937e2-cb2a-42a0-9229-77108855c06a"
   },
   "outputs": [
    {
     "data": {
      "text/plain": [
       "'!\"#$%&\\'()*+,-./:;<=>?@[\\\\]^_`{|}~'"
      ]
     },
     "execution_count": 9,
     "metadata": {},
     "output_type": "execute_result"
    }
   ],
   "source": [
    "#remove punctuations and numerical data except characters\n",
    "import string\n",
    "string.punctuation"
   ]
  },
  {
   "cell_type": "code",
   "execution_count": 10,
   "metadata": {
    "colab": {
     "base_uri": "https://localhost:8080/",
     "height": 72
    },
    "id": "cGKxNEPywxs5",
    "outputId": "634e819f-221a-4d88-bd2f-682738442b1b"
   },
   "outputs": [
    {
     "data": {
      "text/plain": [
       "'TimeandDatehttps://www.timeanddate.com//timerCreateaCountdownTimerthatcountsdowninseconds,hello,helllllo,heeelo,,minutes,hoursanddaystoanydate,withtimezonesupport.Italsocountsupfromapastdate.'"
      ]
     },
     "execution_count": 10,
     "metadata": {},
     "output_type": "execute_result"
    }
   ],
   "source": [
    "re.sub(\"[^a-zA-Z!#$%&\\'()*+,-./:;<=>?@[\\\\]^_`{|}~]\",\"\",str2)"
   ]
  },
  {
   "cell_type": "code",
   "execution_count": 13,
   "metadata": {
    "colab": {
     "base_uri": "https://localhost:8080/"
    },
    "id": "xrPnFI4Ryfy6",
    "outputId": "9035e89f-0c8d-4a29-93ee-148f771846e0"
   },
   "outputs": [
    {
     "data": {
      "text/plain": [
       "['Hello']"
      ]
     },
     "execution_count": 13,
     "metadata": {},
     "output_type": "execute_result"
    }
   ],
   "source": [
    "s2=\"Hello, how r u. hello what are you doing?\"\n",
    "re.findall(\"Hello\",s2)"
   ]
  },
  {
   "cell_type": "code",
   "execution_count": 14,
   "metadata": {
    "colab": {
     "base_uri": "https://localhost:8080/"
    },
    "id": "8WiQr3Shzj_j",
    "outputId": "a57963a2-3c7b-4164-c21a-aa04b63ad430"
   },
   "outputs": [
    {
     "data": {
      "text/plain": [
       "<re.Match object; span=(0, 5), match='Hello'>"
      ]
     },
     "execution_count": 14,
     "metadata": {},
     "output_type": "execute_result"
    }
   ],
   "source": [
    "re.search(\"Hello\",s2)"
   ]
  },
  {
   "cell_type": "code",
   "execution_count": 15,
   "metadata": {
    "id": "Trv-_FAnzdL_"
   },
   "outputs": [],
   "source": [
    "re.match(\"hello\",s2)"
   ]
  },
  {
   "cell_type": "code",
   "execution_count": null,
   "metadata": {
    "colab": {
     "base_uri": "https://localhost:8080/"
    },
    "id": "ZLZt-4Kez8Da",
    "outputId": "de1856e2-adfc-4a86-e8b7-7126eda00f10"
   },
   "outputs": [],
   "source": [
    "import re\n",
    "\n",
    "def extract_contacts(text):\n",
    "    # Email pattern\n",
    "    email_pattern = r'\\b[A-Za-z0-9_.]+@[A-Za-z0-9.-]+\\.[A-Z|a-z]{2,}\\b'\n",
    "\n",
    "    # Phone number pattern (a simplified example, you may need to adjust based on your requirements)\n",
    "    phone_pattern = r'\\b(?:\\+?(\\d{1,3}))?[-. (]*(\\d{3})[-. )]*(\\d{3})[-. ]*(\\d{4})\\b'\n",
    "\n",
    "    # URL pattern\n",
    "    url_pattern = r'\\b(?:https?://|www\\.)\\S+\\b'\n",
    "\n",
    "    emails = re.findall(email_pattern, text)\n",
    "    phone_numbers = re.findall(phone_pattern, text)\n",
    "    urls = re.findall(url_pattern, text)\n",
    "\n",
    "    return {\"emails\": emails, \"phone_numbers\": phone_numbers, \"urls\": urls}\n",
    "\n",
    "# Example usage:\n",
    "input_data = \"\"\"\n",
    "Hello, you can contact me at john.doe@example.com or visit my website at https://www.johndoe.com.\n",
    "For more information, you can call +123-456-7890 or check our website www.example.org.\n",
    "Please don't hesitate to reach out to info@domain.co.uk or (555) 555-5555 for contact further assistance.\n",
    "\"\"\"\n",
    "\n",
    "result = extract_contacts(input_data)\n",
    "print(\"Emails:\", result[\"emails\"])\n",
    "print(\"Phone Numbers:\", result[\"phone_numbers\"])\n",
    "print(\"URLs:\", result[\"urls\"])\n"
   ]
  },
  {
   "cell_type": "code",
   "execution_count": null,
   "metadata": {},
   "outputs": [],
   "source": [
    "# tokenize"
   ]
  },
  {
   "cell_type": "code",
   "execution_count": null,
   "metadata": {},
   "outputs": [],
   "source": []
  },
  {
   "cell_type": "code",
   "execution_count": null,
   "metadata": {},
   "outputs": [],
   "source": []
  },
  {
   "cell_type": "code",
   "execution_count": null,
   "metadata": {},
   "outputs": [],
   "source": []
  },
  {
   "cell_type": "code",
   "execution_count": null,
   "metadata": {
    "id": "3p9K72VZ2x3g"
   },
   "outputs": [],
   "source": [
    "### Spam data\n",
    "import pandas as pd\n",
    "df=pd.read_csv(\"spam.csv\", encoding=\"iso-8859-1\")"
   ]
  },
  {
   "cell_type": "code",
   "execution_count": null,
   "metadata": {},
   "outputs": [],
   "source": []
  },
  {
   "cell_type": "code",
   "execution_count": null,
   "metadata": {
    "colab": {
     "base_uri": "https://localhost:8080/",
     "height": 206
    },
    "id": "u8EVqWrX5OO6",
    "outputId": "ee1c1156-1883-4958-f267-5f5c5de52541"
   },
   "outputs": [],
   "source": [
    "# extract v1 and v2\n"
   ]
  },
  {
   "cell_type": "code",
   "execution_count": null,
   "metadata": {
    "colab": {
     "base_uri": "https://localhost:8080/"
    },
    "id": "gW6jIded5ayb",
    "outputId": "aa8ded7f-6c01-411b-8779-488cc50bf429"
   },
   "outputs": [],
   "source": []
  },
  {
   "cell_type": "code",
   "execution_count": null,
   "metadata": {
    "colab": {
     "base_uri": "https://localhost:8080/"
    },
    "id": "kDX9KJ5n5fZJ",
    "outputId": "c2ff199f-07a5-4e13-b65c-1ed0d6529641"
   },
   "outputs": [],
   "source": []
  },
  {
   "cell_type": "markdown",
   "metadata": {
    "id": "8xIp3Tj95uAB"
   },
   "source": [
    "### steps to clean the data\n",
    "\n",
    "- Remove Punctuations\n",
    "- Remove URL\n",
    "- Lower casing\n",
    "- tokenization\n",
    "- stemming\n",
    "- lemmatization"
   ]
  },
  {
   "cell_type": "code",
   "execution_count": null,
   "metadata": {
    "colab": {
     "base_uri": "https://localhost:8080/",
     "height": 36
    },
    "id": "hs5Wfyse5tVL",
    "outputId": "02ced86b-a826-4090-96d2-bd364dff2b8b"
   },
   "outputs": [],
   "source": [
    "string.punctuation"
   ]
  },
  {
   "cell_type": "code",
   "execution_count": null,
   "metadata": {
    "id": "ftG1raZy5l8y"
   },
   "outputs": [],
   "source": [
    "# create a function to remove punctuations\n"
   ]
  },
  {
   "cell_type": "code",
   "execution_count": null,
   "metadata": {},
   "outputs": [],
   "source": []
  },
  {
   "cell_type": "code",
   "execution_count": null,
   "metadata": {},
   "outputs": [],
   "source": []
  },
  {
   "cell_type": "markdown",
   "metadata": {
    "id": "a5ByHELW7qAx"
   },
   "source": [
    "### Lowering the text"
   ]
  },
  {
   "cell_type": "code",
   "execution_count": null,
   "metadata": {
    "colab": {
     "base_uri": "https://localhost:8080/",
     "height": 257
    },
    "id": "mt9oT0Uu64Sl",
    "outputId": "6ffc59f5-d010-4901-e2f1-271019630152"
   },
   "outputs": [],
   "source": []
  },
  {
   "cell_type": "markdown",
   "metadata": {
    "id": "4q4CmMTs8GUj"
   },
   "source": [
    "#### Tokenization"
   ]
  },
  {
   "cell_type": "code",
   "execution_count": null,
   "metadata": {
    "id": "lgTKsYJS8pYh"
   },
   "outputs": [],
   "source": []
  },
  {
   "cell_type": "code",
   "execution_count": null,
   "metadata": {},
   "outputs": [],
   "source": []
  },
  {
   "cell_type": "code",
   "execution_count": null,
   "metadata": {},
   "outputs": [],
   "source": []
  },
  {
   "cell_type": "markdown",
   "metadata": {
    "id": "DrWZMNDB-bHh"
   },
   "source": [
    "### Stopwords"
   ]
  },
  {
   "cell_type": "code",
   "execution_count": null,
   "metadata": {},
   "outputs": [],
   "source": []
  },
  {
   "cell_type": "code",
   "execution_count": null,
   "metadata": {},
   "outputs": [],
   "source": []
  },
  {
   "cell_type": "code",
   "execution_count": null,
   "metadata": {},
   "outputs": [],
   "source": []
  },
  {
   "cell_type": "markdown",
   "metadata": {},
   "source": [
    "#### Stemming"
   ]
  },
  {
   "cell_type": "code",
   "execution_count": null,
   "metadata": {},
   "outputs": [],
   "source": [
    "import nltk\n",
    "from nltk.stem import PorterStemmer, SnowballStemmer, LancasterStemmer\n",
    "from nltk.tokenize import word_tokenize\n",
    "\n",
    "# Download necessary resources (if not downloaded)\n",
    "nltk.download('punkt')\n",
    "\n",
    "# Initialize stemmers\n",
    "porter = PorterStemmer()\n",
    "snowball = SnowballStemmer(\"english\")\n",
    "lancaster = LancasterStemmer()\n",
    "\n",
    "# Sample words for stemming\n",
    "words = [\"running\", \"jumps\", \"happily\", \"caring\", \"studies\", \"flying\", \"easily\", \"generously\"]\n",
    "\n",
    "# Apply stemming\n",
    "print(\"Original Words:\", words)\n",
    "print(\"\\nPorter Stemmer:\", [porter.stem(word) for word in words])\n",
    "print(\"Snowball Stemmer:\", [snowball.stem(word) for word in words])\n",
    "print(\"Lancaster Stemmer:\", [lancaster.stem(word)"
   ]
  },
  {
   "cell_type": "markdown",
   "metadata": {},
   "source": [
    "#### Apply Stemming to a Sentence"
   ]
  },
  {
   "cell_type": "code",
   "execution_count": null,
   "metadata": {},
   "outputs": [],
   "source": [
    "# Sample sentence\n",
    "sentence = \"The children were playing joyfully in the gardens, enjoying the beautiful weather.\"\n",
    "\n",
    "# Tokenize sentence into words\n",
    "tokens = word_tokenize(sentence)\n",
    "\n",
    "# Apply stemming\n",
    "porter_stemmed = [porter.stem(word) for word in tokens]\n",
    "snowball_stemmed = [snowball.stem(word) for word in tokens]\n",
    "lancaster_stemmed = [lancaster.stem(word) for word in tokens]\n",
    "\n",
    "# Print results\n",
    "print(\"\\nOriginal Sentence:\", sentence)\n",
    "print(\"\\nPorter Stemmer Output:\", porter_stemmed)\n",
    "print(\"Snowball Stemmer Output:\", snowball_stemmed)\n",
    "print(\"Lancaster Stemmer Output:\", lancaster_stemmed)"
   ]
  },
  {
   "cell_type": "markdown",
   "metadata": {},
   "source": [
    "Porter Stemmer: Conservative, widely used in search engines.\n",
    "\n",
    "Snowball Stemmer: Improved version of Porter, works with multiple languages.\n",
    "\n",
    "Lancaster Stemmer: Aggressive, sometimes over-stemming words"
   ]
  },
  {
   "cell_type": "markdown",
   "metadata": {
    "id": "c9g3Cymt_XiQ"
   },
   "source": [
    "### Lemmatization"
   ]
  },
  {
   "cell_type": "code",
   "execution_count": null,
   "metadata": {
    "id": "Je4tBbcI_W6D"
   },
   "outputs": [],
   "source": []
  },
  {
   "cell_type": "code",
   "execution_count": null,
   "metadata": {
    "colab": {
     "base_uri": "https://localhost:8080/"
    },
    "id": "cDPH4lOXAE3-",
    "outputId": "0d7e0d92-e004-4567-df17-beeb52a9b90e"
   },
   "outputs": [],
   "source": []
  },
  {
   "cell_type": "code",
   "execution_count": null,
   "metadata": {
    "id": "9pZngrzDj1jg"
   },
   "outputs": [],
   "source": []
  },
  {
   "cell_type": "code",
   "execution_count": null,
   "metadata": {},
   "outputs": [],
   "source": []
  },
  {
   "cell_type": "code",
   "execution_count": null,
   "metadata": {},
   "outputs": [],
   "source": []
  },
  {
   "cell_type": "code",
   "execution_count": null,
   "metadata": {},
   "outputs": [],
   "source": []
  },
  {
   "cell_type": "code",
   "execution_count": null,
   "metadata": {},
   "outputs": [],
   "source": []
  },
  {
   "cell_type": "markdown",
   "metadata": {},
   "source": [
    "Hands-on Exercise\n",
    "Task: Apply stemming to a given sentence and compare different stemmers.\n",
    "\n",
    "Sentence:\n",
    "\"The children were playing joyfully in the gardens, enjoying the beautiful weather.\"\n",
    "\n",
    "Expected Output\n",
    "Porter: \"children\", \"play\", \"joy\", \"garden\", \"enjoy\", \"beauti\", \"weather\"\n",
    "Snowball: \"children\", \"play\", \"joy\", \"garden\", \"enjoy\", \"beautiful\", \"weather\"\n"
   ]
  },
  {
   "cell_type": "markdown",
   "metadata": {},
   "source": [
    "Tokenization, Stopword Removal, and Lemmatization on a Dataset\n",
    "\n"
   ]
  },
  {
   "cell_type": "code",
   "execution_count": 17,
   "metadata": {},
   "outputs": [
    {
     "data": {
      "application/javascript": [
       "\n",
       "        if (window._pyforest_update_imports_cell) { window._pyforest_update_imports_cell('import pandas as pd'); }\n",
       "    "
      ],
      "text/plain": [
       "<IPython.core.display.Javascript object>"
      ]
     },
     "metadata": {},
     "output_type": "display_data"
    },
    {
     "data": {
      "text/html": [
       "<div>\n",
       "<style scoped>\n",
       "    .dataframe tbody tr th:only-of-type {\n",
       "        vertical-align: middle;\n",
       "    }\n",
       "\n",
       "    .dataframe tbody tr th {\n",
       "        vertical-align: top;\n",
       "    }\n",
       "\n",
       "    .dataframe thead th {\n",
       "        text-align: right;\n",
       "    }\n",
       "</style>\n",
       "<table border=\"1\" class=\"dataframe\">\n",
       "  <thead>\n",
       "    <tr style=\"text-align: right;\">\n",
       "      <th></th>\n",
       "      <th>Review_ID</th>\n",
       "      <th>Customer_Review</th>\n",
       "    </tr>\n",
       "  </thead>\n",
       "  <tbody>\n",
       "    <tr>\n",
       "      <th>0</th>\n",
       "      <td>1</td>\n",
       "      <td>I absolutely love this product! It's amazing a...</td>\n",
       "    </tr>\n",
       "    <tr>\n",
       "      <th>1</th>\n",
       "      <td>2</td>\n",
       "      <td>The item is okay, but the delivery was too slow.</td>\n",
       "    </tr>\n",
       "    <tr>\n",
       "      <th>2</th>\n",
       "      <td>3</td>\n",
       "      <td>Not happy with the product. The quality is bad...</td>\n",
       "    </tr>\n",
       "  </tbody>\n",
       "</table>\n",
       "</div>"
      ],
      "text/plain": [
       "   Review_ID                                    Customer_Review\n",
       "0          1  I absolutely love this product! It's amazing a...\n",
       "1          2   The item is okay, but the delivery was too slow.\n",
       "2          3  Not happy with the product. The quality is bad..."
      ]
     },
     "execution_count": 17,
     "metadata": {},
     "output_type": "execute_result"
    }
   ],
   "source": [
    "# Sample dataset: Customer Reviews\n",
    "data = {\n",
    "    \"Review_ID\": [1, 2, 3],\n",
    "    \"Customer_Review\": [\n",
    "        \"I absolutely love this product! It's amazing and works perfectly.\",\n",
    "        \"The item is okay, but the delivery was too slow.\",\n",
    "        \"Not happy with the product. The quality is bad and it's overpriced.\"\n",
    "    ]\n",
    "}\n",
    "\n",
    "# Convert dataset into a DataFrame\n",
    "df = pd.DataFrame(data)\n",
    "df"
   ]
  },
  {
   "cell_type": "markdown",
   "metadata": {},
   "source": [
    "#### Expected output"
   ]
  },
  {
   "attachments": {
    "image.png": {
     "image/png": "[encoded data removed]"
    }
   },
   "cell_type": "markdown",
   "metadata": {},
   "source": [
    "![image.png](attachment:image.png)"
   ]
  },
  {
   "cell_type": "code",
   "execution_count": null,
   "metadata": {},
   "outputs": [],
   "source": []
  }
 ],
 "metadata": {
  "colab": {
   "provenance": []
  },
  "kernelspec": {
   "display_name": "Python 3 (ipykernel)",
   "language": "python",
   "name": "python3"
  },
  "language_info": {
   "codemirror_mode": {
    "name": "ipython",
    "version": 3
   },
   "file_extension": ".py",
   "mimetype": "text/x-python",
   "name": "python",
   "nbconvert_exporter": "python",
   "pygments_lexer": "ipython3",
   "version": "3.11.5"
  }
 },
 "nbformat": 4,
 "nbformat_minor": 1
}
