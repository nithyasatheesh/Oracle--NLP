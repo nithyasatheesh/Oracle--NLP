{
 "cells": [
  {
   "cell_type": "markdown",
   "id": "66398c9e",
   "metadata": {},
   "source": [
    "1. Sentiment Analysis for Retail Customer Feedback (Retail)\n",
    "Business Problem: Walmart wants to understand customer feedback from product reviews to identify trends and improve products.\n",
    "\n",
    "walmart_reviews"
   ]
  },
  {
   "cell_type": "markdown",
   "id": "3cf3cb99",
   "metadata": {},
   "source": [
    "2. Collect product reviews from multiple platforms.\n",
    "\n",
    "Preprocess data by removing special characters, stop words, and applying lemmatization.\n",
    "\n",
    "Train a sentiment classifier using models like Logistic Regression.\n",
    "\n",
    "Perform aspect-based sentiment analysis to pinpoint sentiment on attributes like \"price\" and \"quality.\"\n",
    "\n",
    "Data set: Transaction_records"
   ]
  },
  {
   "cell_type": "markdown",
   "id": "cb45e62f",
   "metadata": {},
   "source": [
    "3. Classify customer sentiments as positive, negative, or neutral and uncover key topics through topic modeling. Insights will help optimize marketing strategies, enhance product offerings, and improve customer support. By leveraging these analyses, businesses can foster better customer engagement and loyalty.\n",
    "\n",
    "Dataset: Transaction feedback"
   ]
  },
  {
   "cell_type": "code",
   "execution_count": null,
   "id": "90299786",
   "metadata": {},
   "outputs": [],
   "source": []
  },
  {
   "cell_type": "code",
   "execution_count": null,
   "id": "2dcdc547",
   "metadata": {},
   "outputs": [],
   "source": []
  },
  {
   "cell_type": "markdown",
   "id": "3a0514ab",
   "metadata": {},
   "source": [
    "#### Sample  Solution"
   ]
  },
  {
   "cell_type": "code",
   "execution_count": null,
   "id": "92021d8c",
   "metadata": {},
   "outputs": [],
   "source": [
    "import pandas as pd\n",
    "\n",
    "# Load the data\n",
    "file_path = 'walmart_reviews.csv'\n",
    "data = pd.read_csv(file_path)\n",
    "\n",
    "# Inspect the data\n",
    "\n",
    "print(data.head())\n",
    "\n",
    "print(data.info())\n"
   ]
  },
  {
   "cell_type": "code",
   "execution_count": null,
   "id": "3040682e",
   "metadata": {},
   "outputs": [],
   "source": [
    "import re\n",
    "from nltk.corpus import stopwords\n",
    "import nltk\n",
    "\n",
    "nltk.download('stopwords')\n",
    "stop_words = set(stopwords.words('english'))\n",
    "\n",
    "def preprocess_text(text):\n",
    "    # Remove special characters, convert to lowercase, and remove stopwords\n",
    "    text = re.sub(r'[^a-zA-Z\\s]', '', str(text).lower())\n",
    "    text = ' '.join([word for word in text.split() if word not in stop_words])\n",
    "    return text\n",
    "\n",
    "# Apply preprocessing\n",
    "data['Cleaned_Review'] = data['Review'].apply(preprocess_text)\n",
    "print(\"\\nCleaned Reviews:\")\n",
    "print(data[['Review', 'Cleaned_Review']].head())\n"
   ]
  },
  {
   "cell_type": "code",
   "execution_count": null,
   "id": "ecec0a34",
   "metadata": {},
   "outputs": [],
   "source": [
    "Encode Sentiments Based on Ratings"
   ]
  },
  {
   "cell_type": "code",
   "execution_count": null,
   "id": "4cea568a",
   "metadata": {},
   "outputs": [],
   "source": [
    "# Encode sentiments\n",
    "data['Sentiment'] = data['Rating'].apply(lambda x: 'Positive' if x > 3 else 'Negative')\n",
    "print(\"\\nLabeled Data:\")\n",
    "print(data[['Cleaned_Review', 'Sentiment']].head())\n"
   ]
  },
  {
   "cell_type": "code",
   "execution_count": null,
   "id": "0eb58a15",
   "metadata": {},
   "outputs": [],
   "source": [
    "Build a Machine Learning Model"
   ]
  },
  {
   "cell_type": "code",
   "execution_count": null,
   "id": "5128a644",
   "metadata": {},
   "outputs": [],
   "source": [
    "from sklearn.feature_extraction.text import CountVectorizer\n",
    "from sklearn.naive_bayes import MultinomialNB\n",
    "from sklearn.model_selection import train_test_split\n",
    "from sklearn.metrics import classification_report\n",
    "\n",
    "# Vectorize the text data\n",
    "vectorizer = CountVectorizer()\n",
    "X = vectorizer.fit_transform(data['Cleaned_Review'])\n",
    "y = data['Sentiment']\n",
    "\n",
    "# Split the data\n",
    "X_train, X_test, y_train, y_test = train_test_split(X, y, test_size=0.25, random_state=42)\n",
    "\n",
    "# Train a Naive Bayes model\n",
    "model = MultinomialNB()\n",
    "model.fit(X_train, y_train)\n",
    "\n",
    "# Evaluate the model\n",
    "y_pred = model.predict(X_test)\n",
    "print(\"\\nClassification Report:\")\n",
    "print(classification_report(y_test, y_pred))\n"
   ]
  },
  {
   "cell_type": "code",
   "execution_count": null,
   "id": "36b47305",
   "metadata": {},
   "outputs": [],
   "source": [
    "test_review = [\"The product is amazing and very useful.\"]\n",
    "test_vector = vectorizer.transform(test_review)\n",
    "print(\"\\nSentiment Prediction for Test Review:\", model.predict(test_vector)[0])\n"
   ]
  }
 ],
 "metadata": {
  "kernelspec": {
   "display_name": "Python 3 (ipykernel)",
   "language": "python",
   "name": "python3"
  },
  "language_info": {
   "codemirror_mode": {
    "name": "ipython",
    "version": 3
   },
   "file_extension": ".py",
   "mimetype": "text/x-python",
   "name": "python",
   "nbconvert_exporter": "python",
   "pygments_lexer": "ipython3",
   "version": "3.11.5"
  }
 },
 "nbformat": 4,
 "nbformat_minor": 5
}
