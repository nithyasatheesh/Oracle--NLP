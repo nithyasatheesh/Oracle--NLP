{
 "cells": [
  {
   "cell_type": "code",
   "execution_count": null,
   "metadata": {
    "id": "Z6uoER2_q_4m"
   },
   "outputs": [],
   "source": [
    "str2= \"\"\"Time and Date\n",
    "https://www.timeanddate.com ›       timer\n",
    "Create a Countdown Timer that counts down in seconds,\n",
    "\n",
    "\n",
    "minutes, hours and days to any date, with time zone support. It also counts up from a past date.\"\"\""
   ]
  },
  {
   "cell_type": "code",
   "execution_count": null,
   "metadata": {
    "colab": {
     "base_uri": "https://localhost:8080/",
     "height": 72
    },
    "id": "OjbbipdurdHU",
    "outputId": "c3a0d5a0-8886-4c85-8a06-74f8082a7eba"
   },
   "outputs": [],
   "source": [
    "str2"
   ]
  },
  {
   "cell_type": "markdown",
   "metadata": {
    "id": "Bd8TWHG3ryxQ"
   },
   "source": [
    "### Regular expression\n"
   ]
  },
  {
   "cell_type": "code",
   "execution_count": null,
   "metadata": {
    "id": "pZBjjlSIrdt4"
   },
   "outputs": [],
   "source": [
    "import re"
   ]
  },
  {
   "cell_type": "code",
   "execution_count": null,
   "metadata": {
    "id": "HAGdoua_r91X"
   },
   "outputs": [],
   "source": [
    "# re.findall(), re.search(), re.match()\n",
    "#re.compile()\n",
    "#re.sub()--> replace\n",
    "#re.split()"
   ]
  },
  {
   "cell_type": "markdown",
   "metadata": {
    "id": "lGAxo3D1tC1b"
   },
   "source": [
    "#### +  =one or more occurences\n",
    "#### *  =zero or more occurences\n",
    "#### {}  limited {2} 2 occurences\n",
    "#### Repeaters"
   ]
  },
  {
   "cell_type": "code",
   "execution_count": null,
   "metadata": {
    "colab": {
     "base_uri": "https://localhost:8080/",
     "height": 72
    },
    "id": "ealGCGNRr5Z9",
    "outputId": "c3434be3-8c83-4e3c-9d52-7d755df0c593"
   },
   "outputs": [],
   "source": [
    "re.sub(\"\\s+\",\" \",str2)  #\\s--> white space"
   ]
  },
  {
   "cell_type": "code",
   "execution_count": null,
   "metadata": {
    "id": "6Ls7C3lbttgX"
   },
   "outputs": [],
   "source": [
    "str2= \"\"\"Time and Date https://www.timeanddate.com › 13/06/2024      timer\n",
    "Create a Countdown Timer that counts down in seconds,\n",
    "hello, helllllo,heeelo,9876543217,9087654432\n",
    "\n",
    "minutes, hours and days to any date, with time zone support. It also counts up from a past date.\"\"\""
   ]
  },
  {
   "cell_type": "code",
   "execution_count": null,
   "metadata": {
    "colab": {
     "base_uri": "https://localhost:8080/"
    },
    "id": "VQ2lOz7ruLa2",
    "outputId": "8c3bf61c-0205-4115-b4b7-9f08ac15a088"
   },
   "outputs": [],
   "source": [
    "re.findall('hello',str2)"
   ]
  },
  {
   "cell_type": "code",
   "execution_count": null,
   "metadata": {
    "colab": {
     "base_uri": "https://localhost:8080/"
    },
    "id": "UzzuDAwguWiE",
    "outputId": "8c673cbb-9230-4943-e9db-b43aae151e10"
   },
   "outputs": [],
   "source": [
    "re.findall(\"[hello]{4,10}\",str2)  # {}: quantifier-{min,max}"
   ]
  },
  {
   "cell_type": "code",
   "execution_count": null,
   "metadata": {
    "colab": {
     "base_uri": "https://localhost:8080/"
    },
    "id": "jO0eU3K1uetN",
    "outputId": "fbce3e33-64f2-4a56-c3f7-e49520ddf818"
   },
   "outputs": [],
   "source": [
    "# finding the digits\n",
    "re.findall(\"\\d{10}\",str2)"
   ]
  },
  {
   "cell_type": "code",
   "execution_count": null,
   "metadata": {
    "colab": {
     "base_uri": "https://localhost:8080/",
     "height": 36
    },
    "id": "z_sgL8LjwUT1",
    "outputId": "02aeb25a-7ded-4a39-dbcc-f61ec9ab7b80"
   },
   "outputs": [],
   "source": [
    "#remove punctuations and numerical data except characters\n",
    "import string\n",
    "string.punctuation"
   ]
  },
  {
   "cell_type": "code",
   "execution_count": null,
   "metadata": {
    "colab": {
     "base_uri": "https://localhost:8080/",
     "height": 72
    },
    "id": "cGKxNEPywxs5",
    "outputId": "700e0904-68ba-4d36-835f-c101753b43bd"
   },
   "outputs": [],
   "source": [
    "re.sub(\"[^a-zA-Z!#$%&\\'()*+,-./:;<=>?@[\\\\]^_`{|}~]\",\"\",str2)"
   ]
  },
  {
   "cell_type": "code",
   "execution_count": null,
   "metadata": {
    "colab": {
     "base_uri": "https://localhost:8080/",
     "height": 36
    },
    "id": "W4BvWj0NxYr1",
    "outputId": "f0982b42-1fb1-4e79-bf0f-59950f4fe290"
   },
   "outputs": [],
   "source": [
    "s1=\"//www.timeanddate.com//\"\n",
    "re.sub(\"[^a-zA-Z!#$%&\\'()*+,-./:;<=>?@[\\\\]^_`{|}]\",\"\",s1)"
   ]
  },
  {
   "cell_type": "code",
   "execution_count": null,
   "metadata": {
    "colab": {
     "base_uri": "https://localhost:8080/"
    },
    "id": "xrPnFI4Ryfy6",
    "outputId": "c287fc00-b896-42a8-cce6-9a7d1500c535"
   },
   "outputs": [],
   "source": [
    "s2=\"Hello, how r u. hello what are you doing?\"\n",
    "re.findall(\"Hello\",s2)"
   ]
  },
  {
   "cell_type": "code",
   "execution_count": null,
   "metadata": {
    "colab": {
     "base_uri": "https://localhost:8080/"
    },
    "id": "8WiQr3Shzj_j",
    "outputId": "c637ecba-a31f-4e73-9b21-c84d50a21f5f"
   },
   "outputs": [],
   "source": [
    "re.search(\"Hello\",s2)"
   ]
  },
  {
   "cell_type": "code",
   "execution_count": null,
   "metadata": {
    "id": "Trv-_FAnzdL_"
   },
   "outputs": [],
   "source": [
    "re.match(\"hello\",s2)"
   ]
  },
  {
   "cell_type": "code",
   "execution_count": null,
   "metadata": {
    "colab": {
     "base_uri": "https://localhost:8080/"
    },
    "id": "1jgsOgo2zuWh",
    "outputId": "de23252a-8711-4b2f-b201-41231c5acbdf"
   },
   "outputs": [],
   "source": [
    "re.search(\"hello\",s2)"
   ]
  },
  {
   "cell_type": "code",
   "execution_count": null,
   "metadata": {
    "colab": {
     "base_uri": "https://localhost:8080/"
    },
    "id": "ZLZt-4Kez8Da",
    "outputId": "6bb58274-6d8b-4ccc-a18e-af5c0435f242"
   },
   "outputs": [],
   "source": [
    "import re\n",
    "\n",
    "def extract_contacts(text):\n",
    "    # Email pattern\n",
    "    email_pattern = r'\\b[A-Za-z0-9_.]+@[A-Za-z0-9.-]+\\.[A-Z|a-z]{2,}\\b'\n",
    "\n",
    "    # Phone number pattern (a simplified example, you may need to adjust based on your requirements)\n",
    "    phone_pattern = r'\\b(?:\\+?(\\d{1,3}))?[-. (]*(\\d{3})[-. )]*(\\d{3})[-. ]*(\\d{4})\\b'\n",
    "\n",
    "    # URL pattern\n",
    "    url_pattern = r'\\b(?:https?://|www\\.)\\S+\\b'\n",
    "\n",
    "    emails = re.findall(email_pattern, text)\n",
    "    phone_numbers = re.findall(phone_pattern, text)\n",
    "    urls = re.findall(url_pattern, text)\n",
    "\n",
    "    return {\"emails\": emails, \"phone_numbers\": phone_numbers, \"urls\": urls}\n",
    "\n",
    "# Example usage:\n",
    "input_data = \"\"\"\n",
    "Hello, you can contact me at john.doe@example.com or visit my website at https://www.johndoe.com.\n",
    "For more information, you can call +123-456-7890 or check our website www.example.org.\n",
    "Please don't hesitate to reach out to info@domain.co.uk or (555) 555-5555 for contact further assistance.\n",
    "\"\"\"\n",
    "\n",
    "result = extract_contacts(input_data)\n",
    "print(\"Emails:\", result[\"emails\"])\n",
    "print(\"Phone Numbers:\", result[\"phone_numbers\"])\n",
    "print(\"URLs:\", result[\"urls\"])\n"
   ]
  },
  {
   "cell_type": "code",
   "execution_count": null,
   "metadata": {
    "id": "iEDfzc0C1dVw"
   },
   "outputs": [],
   "source": [
    "#### ngrams: unigrams, bigrams, trigrams\n",
    "#teh --> the -unigram\n",
    "#teh dog --> the dog -bigrams\n",
    "from nltk.util import ngrams,bigrams"
   ]
  },
  {
   "cell_type": "code",
   "execution_count": null,
   "metadata": {
    "id": "8okejz_Q2Rrm"
   },
   "outputs": [],
   "source": [
    "import nltk\n",
    "from nltk.tokenize import word_tokenize"
   ]
  },
  {
   "cell_type": "code",
   "execution_count": null,
   "metadata": {
    "colab": {
     "base_uri": "https://localhost:8080/"
    },
    "id": "WMAxMzaH2r7c",
    "outputId": "77127c06-6a69-4a27-da6e-4478d45bae7a"
   },
   "outputs": [],
   "source": [
    "nltk.download('punkt')"
   ]
  },
  {
   "cell_type": "code",
   "execution_count": null,
   "metadata": {
    "id": "z0z9f4Oa2YFi"
   },
   "outputs": [],
   "source": [
    "a1=word_tokenize(str2)"
   ]
  },
  {
   "cell_type": "code",
   "execution_count": null,
   "metadata": {
    "colab": {
     "base_uri": "https://localhost:8080/"
    },
    "id": "lcqWPvAj2jPH",
    "outputId": "4c2a1af5-134c-4f42-ca2f-e76a32a0a6f8"
   },
   "outputs": [],
   "source": [
    "list(ngrams(a1,2))"
   ]
  },
  {
   "cell_type": "code",
   "execution_count": null,
   "metadata": {
    "id": "3p9K72VZ2x3g"
   },
   "outputs": [],
   "source": [
    "### Spam data\n",
    "import pandas as pd\n",
    "df=pd.read_csv(\"spam.csv\", encoding=\"iso-8859-1\")"
   ]
  },
  {
   "cell_type": "code",
   "execution_count": null,
   "metadata": {
    "colab": {
     "base_uri": "https://localhost:8080/",
     "height": 206
    },
    "id": "ZbfyAz-n4J_V",
    "outputId": "ea7badfd-f5c8-4e66-a821-243aa9d1ad64"
   },
   "outputs": [],
   "source": [
    "df.head()"
   ]
  },
  {
   "cell_type": "code",
   "execution_count": null,
   "metadata": {
    "colab": {
     "base_uri": "https://localhost:8080/",
     "height": 206
    },
    "id": "u8EVqWrX5OO6",
    "outputId": "9fdcd7db-d733-4a92-bb76-c7aaa1960da9"
   },
   "outputs": [],
   "source": [
    "# extract v1 and v2\n",
    "data=df[['v1','v2']]\n",
    "data.head()"
   ]
  },
  {
   "cell_type": "code",
   "execution_count": null,
   "metadata": {
    "colab": {
     "base_uri": "https://localhost:8080/"
    },
    "id": "gW6jIded5ayb",
    "outputId": "9b3f28f1-cbd7-4bff-80ed-1304307c7ae9"
   },
   "outputs": [],
   "source": [
    "data.shape"
   ]
  },
  {
   "cell_type": "code",
   "execution_count": null,
   "metadata": {
    "colab": {
     "base_uri": "https://localhost:8080/"
    },
    "id": "kDX9KJ5n5fZJ",
    "outputId": "e810e261-588f-49ea-9a56-8fda7a7f4c21"
   },
   "outputs": [],
   "source": [
    "data['v1'].value_counts(normalize=True)"
   ]
  },
  {
   "cell_type": "markdown",
   "metadata": {
    "id": "8xIp3Tj95uAB"
   },
   "source": [
    "### steps to clean the data\n",
    "\n",
    "- Remove Punctuations\n",
    "- Remove URL\n",
    "- Lower casing\n",
    "- tokenization\n",
    "- stemming\n",
    "- lemmatization"
   ]
  },
  {
   "cell_type": "code",
   "execution_count": null,
   "metadata": {
    "colab": {
     "base_uri": "https://localhost:8080/",
     "height": 36
    },
    "id": "hs5Wfyse5tVL",
    "outputId": "de888ef6-fabe-4f27-88cd-cbc4e88e8d7f"
   },
   "outputs": [],
   "source": [
    "string.punctuation"
   ]
  },
  {
   "cell_type": "code",
   "execution_count": null,
   "metadata": {
    "id": "ftG1raZy5l8y"
   },
   "outputs": [],
   "source": [
    "# create a function to remove punctuations\n",
    "def remove_punctuation(text):\n",
    "  punc_free=\"\".join([i for i in text if i not in string.punctuation])\n",
    "  return punc_free"
   ]
  },
  {
   "cell_type": "code",
   "execution_count": null,
   "metadata": {
    "colab": {
     "base_uri": "https://localhost:8080/"
    },
    "id": "CqPciyXr6oDq",
    "outputId": "cacde44a-02fb-429d-a2bc-57e93918e1f9"
   },
   "outputs": [],
   "source": [
    "data['clean_txt']=data['v2'].apply(remove_punctuation)"
   ]
  },
  {
   "cell_type": "code",
   "execution_count": null,
   "metadata": {
    "colab": {
     "base_uri": "https://localhost:8080/",
     "height": 223
    },
    "id": "OINQ08fX6z27",
    "outputId": "b5e6e74b-8faf-4998-c508-b19663536a74"
   },
   "outputs": [],
   "source": [
    "data.head()"
   ]
  },
  {
   "cell_type": "code",
   "execution_count": null,
   "metadata": {
    "id": "t5bXLzSh6T6j"
   },
   "outputs": [],
   "source": [
    "#data['clean_txt']=data['v2'].apply(lambda x:remove_punctuation(x))"
   ]
  },
  {
   "cell_type": "markdown",
   "metadata": {
    "id": "a5ByHELW7qAx"
   },
   "source": [
    "### Lowering the text"
   ]
  },
  {
   "cell_type": "code",
   "execution_count": null,
   "metadata": {
    "colab": {
     "base_uri": "https://localhost:8080/",
     "height": 257
    },
    "id": "mt9oT0Uu64Sl",
    "outputId": "9c679ea6-9bd0-493c-d11f-50347f47577f"
   },
   "outputs": [],
   "source": [
    "data[\"txt_lower\"]=data['clean_txt'].apply(lambda x: x.lower())  # converted to lower case\n",
    "data.head(2)"
   ]
  },
  {
   "cell_type": "markdown",
   "metadata": {
    "id": "4q4CmMTs8GUj"
   },
   "source": [
    "#### Tokenization"
   ]
  },
  {
   "cell_type": "code",
   "execution_count": null,
   "metadata": {
    "id": "lgTKsYJS8pYh"
   },
   "outputs": [],
   "source": [
    "from nltk.tokenize import word_tokenize"
   ]
  },
  {
   "cell_type": "code",
   "execution_count": null,
   "metadata": {
    "id": "HcIzc0i272uO"
   },
   "outputs": [],
   "source": [
    "def token_txt(data):\n",
    "  data=data.lower()\n",
    "  data1=word_tokenize(data)\n",
    "  return data1"
   ]
  },
  {
   "cell_type": "code",
   "execution_count": null,
   "metadata": {
    "colab": {
     "base_uri": "https://localhost:8080/",
     "height": 362
    },
    "id": "7twSUdM_8bgW",
    "outputId": "4fd211fe-a260-4fd9-825f-cb35feaaba37"
   },
   "outputs": [],
   "source": [
    "data[\"txt_tokenized\"]=data['v2'].apply(lambda x: token_txt(x))\n",
    "data.head()"
   ]
  },
  {
   "cell_type": "markdown",
   "metadata": {
    "id": "DrWZMNDB-bHh"
   },
   "source": [
    "### Stopwords"
   ]
  },
  {
   "cell_type": "code",
   "execution_count": null,
   "metadata": {
    "colab": {
     "base_uri": "https://localhost:8080/"
    },
    "id": "Zd2KZFzs-vzT",
    "outputId": "2f55f3c0-d7ab-4a92-c6cc-5b4cda84d5c9"
   },
   "outputs": [],
   "source": [
    "nltk.download('stopwords')"
   ]
  },
  {
   "cell_type": "code",
   "execution_count": null,
   "metadata": {
    "id": "-fhmxF9t8l9V"
   },
   "outputs": [],
   "source": [
    "stopwords=nltk.corpus.stopwords.words('english')"
   ]
  },
  {
   "cell_type": "code",
   "execution_count": null,
   "metadata": {
    "id": "y5OcpiL7-sz5"
   },
   "outputs": [],
   "source": [
    "def remove_stopwords(text):\n",
    "  output=[i for i in text if i not in stopwords]\n",
    "  return output"
   ]
  },
  {
   "cell_type": "code",
   "execution_count": null,
   "metadata": {
    "colab": {
     "base_uri": "https://localhost:8080/",
     "height": 431
    },
    "id": "UFT2yZQW-6Zf",
    "outputId": "908434ac-8895-4fb7-f0f9-af9695fe8e15"
   },
   "outputs": [],
   "source": [
    "data['no_stopwords']=data['txt_tokenized'].apply(lambda x: remove_stopwords(x))\n",
    "data.head()"
   ]
  },
  {
   "cell_type": "markdown",
   "metadata": {
    "id": "c9g3Cymt_XiQ"
   },
   "source": [
    "### Lemmatization"
   ]
  },
  {
   "cell_type": "code",
   "execution_count": null,
   "metadata": {
    "id": "Je4tBbcI_W6D"
   },
   "outputs": [],
   "source": [
    "from nltk.stem import WordNetLemmatizer\n",
    "wordnet_lemmatizer=WordNetLemmatizer()"
   ]
  },
  {
   "cell_type": "code",
   "execution_count": null,
   "metadata": {
    "colab": {
     "base_uri": "https://localhost:8080/"
    },
    "id": "cDPH4lOXAE3-",
    "outputId": "1d379a17-f909-4fdf-bee4-283ac5398664"
   },
   "outputs": [],
   "source": [
    "nltk.download('wordnet')"
   ]
  },
  {
   "cell_type": "code",
   "execution_count": null,
   "metadata": {
    "colab": {
     "base_uri": "https://localhost:8080/",
     "height": 535
    },
    "id": "BHywSFVg_Fc3",
    "outputId": "b118f12c-6ca5-4a0d-e231-524a31b0b932"
   },
   "outputs": [],
   "source": [
    "def lemmatizer(text):\n",
    "  lemm_text=[wordnet_lemmatizer.lemmatize(word) for word in text]\n",
    "  return lemm_text\n",
    "data['txt_lemmatized']=data['no_stopwords'].apply(lambda x: lemmatizer(x))\n",
    "data.head()"
   ]
  },
  {
   "cell_type": "code",
   "execution_count": null,
   "metadata": {
    "id": "JVET7EQ5BSkq"
   },
   "outputs": [],
   "source": [
    "data['cleanedtext'] = data['txt_lemmatized'].apply(lambda x : \" \".join(x))"
   ]
  },
  {
   "cell_type": "markdown",
   "metadata": {
    "id": "KjeO-RPOAWEp"
   },
   "source": [
    "#### Step 2: Convert words into vector(numerical format)\n",
    "\n",
    "- Bag of words (BOW)\n",
    "- Tfidf (Term frequency inverse document frequency)\n",
    "- Word2Vec"
   ]
  },
  {
   "cell_type": "code",
   "execution_count": null,
   "metadata": {
    "id": "9pZngrzDj1jg"
   },
   "outputs": [],
   "source": []
  },
  {
   "cell_type": "code",
   "execution_count": null,
   "metadata": {},
   "outputs": [],
   "source": []
  },
  {
   "cell_type": "markdown",
   "metadata": {
    "id": "DsQPhC4Ulhc-"
   },
   "source": [
    "### Bag of Words"
   ]
  },
  {
   "cell_type": "code",
   "execution_count": null,
   "metadata": {},
   "outputs": [],
   "source": []
  },
  {
   "cell_type": "code",
   "execution_count": null,
   "metadata": {},
   "outputs": [],
   "source": []
  },
  {
   "cell_type": "code",
   "execution_count": null,
   "metadata": {},
   "outputs": [],
   "source": []
  },
  {
   "cell_type": "code",
   "execution_count": null,
   "metadata": {},
   "outputs": [],
   "source": []
  },
  {
   "cell_type": "markdown",
   "metadata": {
    "id": "z7dFhrCWr42L"
   },
   "source": [
    "### Tf-idf"
   ]
  },
  {
   "cell_type": "code",
   "execution_count": null,
   "metadata": {},
   "outputs": [],
   "source": []
  },
  {
   "cell_type": "code",
   "execution_count": null,
   "metadata": {},
   "outputs": [],
   "source": []
  },
  {
   "cell_type": "code",
   "execution_count": null,
   "metadata": {},
   "outputs": [],
   "source": []
  },
  {
   "cell_type": "code",
   "execution_count": null,
   "metadata": {},
   "outputs": [],
   "source": []
  },
  {
   "cell_type": "markdown",
   "metadata": {
    "id": "GchZBbPSuevz"
   },
   "source": [
    "### Naive Bayes algorithm\n",
    "\n",
    "- Multinomial Naive Bayes"
   ]
  },
  {
   "cell_type": "code",
   "execution_count": null,
   "metadata": {
    "id": "XPl8ZZ31u2Po"
   },
   "outputs": [],
   "source": [
    "from sklearn.naive_bayes import MultinomialNB\n",
    "from sklearn.pipeline import Pipeline\n",
    "from sklearn.model_selection import GridSearchCV\n"
   ]
  },
  {
   "cell_type": "code",
   "execution_count": null,
   "metadata": {},
   "outputs": [],
   "source": []
  },
  {
   "cell_type": "code",
   "execution_count": null,
   "metadata": {},
   "outputs": [],
   "source": []
  },
  {
   "cell_type": "code",
   "execution_count": null,
   "metadata": {},
   "outputs": [],
   "source": []
  },
  {
   "cell_type": "code",
   "execution_count": null,
   "metadata": {
    "id": "8Fe5VsG7w12s"
   },
   "outputs": [],
   "source": [
    "param2={}\n",
    "param2['tfidf_min_df']:[5,10]\n",
    "param2['tfidf_ngram_range']:[(1,2),(1,3)]\n",
    "param2['classifier']=[clf,reg2]\n",
    "pipeline=Pipeline(steps=[('tfidf',TfidfVectorizer(stop_words='english')),('classifier',clf)])"
   ]
  },
  {
   "cell_type": "code",
   "execution_count": null,
   "metadata": {
    "id": "qYL4UziKxjvo"
   },
   "outputs": [],
   "source": [
    "params=[param2]"
   ]
  },
  {
   "cell_type": "code",
   "execution_count": null,
   "metadata": {
    "id": "7Tx-y_N3xujh"
   },
   "outputs": [],
   "source": [
    "gs=GridSearchCV(pipeline,params)"
   ]
  },
  {
   "cell_type": "code",
   "execution_count": null,
   "metadata": {
    "colab": {
     "base_uri": "https://localhost:8080/",
     "height": 150
    },
    "id": "s4szPkNIx3bi",
    "outputId": "c1de46b3-1bdf-4816-ace3-81285ecac47f"
   },
   "outputs": [],
   "source": [
    "gs.fit(data['cleanedtext'],data['v1'])"
   ]
  },
  {
   "cell_type": "code",
   "execution_count": null,
   "metadata": {
    "id": "-JIzJVQS0bsw"
   },
   "outputs": [],
   "source": []
  }
 ],
 "metadata": {
  "colab": {
   "provenance": []
  },
  "kernelspec": {
   "display_name": "Python 3 (ipykernel)",
   "language": "python",
   "name": "python3"
  },
  "language_info": {
   "codemirror_mode": {
    "name": "ipython",
    "version": 3
   },
   "file_extension": ".py",
   "mimetype": "text/x-python",
   "name": "python",
   "nbconvert_exporter": "python",
   "pygments_lexer": "ipython3",
   "version": "3.11.5"
  }
 },
 "nbformat": 4,
 "nbformat_minor": 1
}
