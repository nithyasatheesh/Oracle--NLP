{
 "cells": [
  {
   "cell_type": "code",
   "execution_count": null,
   "metadata": {
    "colab": {
     "base_uri": "https://localhost:8080/"
    },
    "id": "4N9dkQWDf8UR",
    "outputId": "288050ec-fdcc-4ade-bd41-bba682d260da"
   },
   "outputs": [],
   "source": [
    "!pip install nltk"
   ]
  },
  {
   "cell_type": "code",
   "execution_count": null,
   "metadata": {
    "id": "GgjBaGpUgF9-"
   },
   "outputs": [],
   "source": [
    "import nltk"
   ]
  },
  {
   "cell_type": "code",
   "execution_count": null,
   "metadata": {
    "id": "pyn1dhs3gVzI"
   },
   "outputs": [],
   "source": [
    "corpus='''Hello welcome,to Megna's Python tutorials.\n",
    "Please do watch the entire course! to become expert in Python.\n",
    "Explore your skills.'''"
   ]
  },
  {
   "cell_type": "code",
   "execution_count": null,
   "metadata": {
    "colab": {
     "base_uri": "https://localhost:8080/"
    },
    "id": "kyx2gaJ4g2Ra",
    "outputId": "115a945e-0e6a-4c0a-8867-181fbdcea0bc"
   },
   "outputs": [],
   "source": [
    "print(corpus)"
   ]
  },
  {
   "cell_type": "code",
   "execution_count": null,
   "metadata": {
    "id": "hhrm0S39g3fH"
   },
   "outputs": [],
   "source": [
    "#tokenization\n",
    "# paragraph--> sentence\n",
    "from nltk.tokenize import sent_tokenize"
   ]
  },
  {
   "cell_type": "code",
   "execution_count": null,
   "metadata": {
    "colab": {
     "base_uri": "https://localhost:8080/"
    },
    "id": "HBQsj-FSh9Q6",
    "outputId": "1b54e4b3-83de-491f-a716-2b079be2c86b"
   },
   "outputs": [],
   "source": [
    "nltk.download('punkt')"
   ]
  },
  {
   "cell_type": "code",
   "execution_count": null,
   "metadata": {
    "id": "a3FSb-BBiR2M"
   },
   "outputs": [],
   "source": [
    "nltk.download()"
   ]
  },
  {
   "cell_type": "code",
   "execution_count": null,
   "metadata": {
    "colab": {
     "base_uri": "https://localhost:8080/"
    },
    "id": "RXURprYchl4N",
    "outputId": "ce9b8efa-a3be-46e2-f843-e5503b949bec"
   },
   "outputs": [],
   "source": [
    "documents=sent_tokenize(corpus)\n",
    "documents"
   ]
  },
  {
   "cell_type": "code",
   "execution_count": null,
   "metadata": {
    "colab": {
     "base_uri": "https://localhost:8080/"
    },
    "id": "Or_04-shjQ-b",
    "outputId": "1d0ab454-bb93-45c5-a413-7ffb7efefc8d"
   },
   "outputs": [],
   "source": [
    "from nltk.tokenize import word_tokenize\n",
    "document_1=word_tokenize(corpus)\n",
    "print(document_1)"
   ]
  },
  {
   "cell_type": "code",
   "execution_count": null,
   "metadata": {
    "colab": {
     "base_uri": "https://localhost:8080/"
    },
    "id": "N32U5I1fkOF-",
    "outputId": "9585a941-03e5-40a5-e2b0-c5e9079dba96"
   },
   "outputs": [],
   "source": [
    "from nltk.tokenize import wordpunct_tokenize\n",
    "print(wordpunct_tokenize(corpus))"
   ]
  },
  {
   "cell_type": "markdown",
   "metadata": {
    "id": "iioyAz1TowAQ"
   },
   "source": [
    "\n",
    "### Stemming\n",
    "\n",
    "Stemming is the process of reducing a word to its word stem/ roots of words is known as lemma."
   ]
  },
  {
   "cell_type": "markdown",
   "metadata": {
    "id": "z68E7S2ZpD69"
   },
   "source": [
    "### classification problem\n",
    "### comments positive, negative review\n",
    "#### going, goes,gone ---> go\n",
    "#### history-->histori"
   ]
  },
  {
   "cell_type": "code",
   "execution_count": null,
   "metadata": {
    "id": "nZDuauTuouY3"
   },
   "outputs": [],
   "source": [
    "from nltk.stem import PorterStemmer"
   ]
  },
  {
   "cell_type": "code",
   "execution_count": null,
   "metadata": {
    "id": "A6cINjp-oupb"
   },
   "outputs": [],
   "source": [
    "stemming=PorterStemmer()"
   ]
  },
  {
   "cell_type": "code",
   "execution_count": null,
   "metadata": {
    "id": "-lE5iSdMp86r"
   },
   "outputs": [],
   "source": [
    "words=['eating','eats','eaten','writing','writes','programming','programs','history','historical','goes','go','congratulations']"
   ]
  },
  {
   "cell_type": "code",
   "execution_count": null,
   "metadata": {
    "colab": {
     "base_uri": "https://localhost:8080/"
    },
    "id": "tMVzM4dbp5KV",
    "outputId": "cc154841-e477-4eee-de45-8af95b2815fe"
   },
   "outputs": [],
   "source": [
    "for word in words:\n",
    "  print(stemming.stem(word))"
   ]
  },
  {
   "cell_type": "code",
   "execution_count": null,
   "metadata": {
    "colab": {
     "base_uri": "https://localhost:8080/"
    },
    "id": "aTWns2sJp5OH",
    "outputId": "8531d40b-4c0f-4337-f45c-9518fed51a26"
   },
   "outputs": [],
   "source": [
    "stemming.pool"
   ]
  },
  {
   "cell_type": "code",
   "execution_count": null,
   "metadata": {
    "id": "MO6EtxCPsfZx"
   },
   "outputs": [],
   "source": [
    "from nltk.stem import RegexpStemmer"
   ]
  },
  {
   "cell_type": "code",
   "execution_count": null,
   "metadata": {
    "id": "MjSu3oBPs0Fw"
   },
   "outputs": [],
   "source": [
    "reg_stemmer=RegexpStemmer('ing$|s$|e$|able$',min=4)\n",
    "# ing$--> word is ending with ing\n",
    "#s$--> word is ending with s\n",
    "#e$--> word is ending with e\n",
    "#able$--> word is ending with able\n",
    "#min=4--> minimum 4 characters"
   ]
  },
  {
   "cell_type": "code",
   "execution_count": null,
   "metadata": {
    "colab": {
     "base_uri": "https://localhost:8080/",
     "height": 36
    },
    "id": "uvFJBO5Js0W3",
    "outputId": "9cc85e14-1af0-41ef-d946-26ff0e180ab2"
   },
   "outputs": [],
   "source": [
    "reg_stemmer.stem('eating')"
   ]
  },
  {
   "cell_type": "code",
   "execution_count": null,
   "metadata": {
    "colab": {
     "base_uri": "https://localhost:8080/",
     "height": 36
    },
    "id": "qKRRk_m1uFlW",
    "outputId": "72d42cbd-cc42-4d71-9a52-0a0575f15571"
   },
   "outputs": [],
   "source": [
    "reg_stemmer.stem('eati')"
   ]
  },
  {
   "cell_type": "code",
   "execution_count": null,
   "metadata": {
    "colab": {
     "base_uri": "https://localhost:8080/",
     "height": 36
    },
    "id": "op4e_vkoumBa",
    "outputId": "fbf0ae57-ae93-432d-9e1c-735d142187fd"
   },
   "outputs": [],
   "source": [
    "reg_stemmer.stem('es')"
   ]
  },
  {
   "cell_type": "code",
   "execution_count": null,
   "metadata": {
    "colab": {
     "base_uri": "https://localhost:8080/",
     "height": 36
    },
    "id": "NA-ePfbJtKbS",
    "outputId": "10a7b3f2-66c7-4d03-f029-38c80c4eeab5"
   },
   "outputs": [],
   "source": [
    "reg_stemmer.stem('ingeats')"
   ]
  },
  {
   "cell_type": "code",
   "execution_count": null,
   "metadata": {
    "colab": {
     "base_uri": "https://localhost:8080/",
     "height": 36
    },
    "id": "bHpu3LrjtanA",
    "outputId": "c44e18a4-0bc8-4a73-cd84-6c381d2046bc"
   },
   "outputs": [],
   "source": [
    "reg_stemmer.stem('progamable')"
   ]
  },
  {
   "cell_type": "code",
   "execution_count": null,
   "metadata": {
    "id": "OVHGEc40vDpv"
   },
   "outputs": [],
   "source": [
    "### SnowballStemmer"
   ]
  },
  {
   "cell_type": "markdown",
   "metadata": {
    "id": "vjKX3MAEvU0x"
   },
   "source": [
    "### Lemmatization\n",
    "\n",
    "- Like stemming.Process of reducing words to their base stem.\n",
    "- meaningful word\n",
    "- works slow compare with stemming. But accuracy is good"
   ]
  },
  {
   "cell_type": "code",
   "execution_count": null,
   "metadata": {
    "id": "T_OWEt5zvUJv"
   },
   "outputs": [],
   "source": [
    "### chatbots, Q&A, text summarization"
   ]
  },
  {
   "cell_type": "code",
   "execution_count": null,
   "metadata": {
    "id": "wJQdleqQvUMV"
   },
   "outputs": [],
   "source": [
    "from nltk.stem import WordNetLemmatizer"
   ]
  },
  {
   "cell_type": "code",
   "execution_count": null,
   "metadata": {
    "id": "wB3j3qX8vUOo"
   },
   "outputs": [],
   "source": [
    "lemmatizer=WordNetLemmatizer()"
   ]
  },
  {
   "cell_type": "markdown",
   "metadata": {
    "id": "ecnuMVhqxW7C"
   },
   "source": [
    "''' POS(Part of Speech)\n",
    "defult: 'noun'\n",
    "verb='v'\n",
    "adjective='a'\n",
    "adverb= 'r'\n",
    "'''\n"
   ]
  },
  {
   "cell_type": "code",
   "execution_count": null,
   "metadata": {
    "colab": {
     "base_uri": "https://localhost:8080/"
    },
    "id": "aLKeqxzFxuDN",
    "outputId": "59751eb7-b139-4828-a109-fa3f483787a5"
   },
   "outputs": [],
   "source": [
    "nltk.download('wordnet')"
   ]
  },
  {
   "cell_type": "code",
   "execution_count": null,
   "metadata": {
    "colab": {
     "base_uri": "https://localhost:8080/",
     "height": 36
    },
    "id": "p7zwnYvHvURc",
    "outputId": "369a4ae1-12bb-4ef7-f583-ad7675e797d0"
   },
   "outputs": [],
   "source": [
    "lemmatizer.lemmatize(\"going\")"
   ]
  },
  {
   "cell_type": "code",
   "execution_count": null,
   "metadata": {
    "colab": {
     "base_uri": "https://localhost:8080/",
     "height": 36
    },
    "id": "Qti2scvDx1Wj",
    "outputId": "00092292-08c7-4c1c-c38d-765330e7a51a"
   },
   "outputs": [],
   "source": [
    "lemmatizer.lemmatize(\"going\",pos='v')"
   ]
  },
  {
   "cell_type": "code",
   "execution_count": null,
   "metadata": {
    "colab": {
     "base_uri": "https://localhost:8080/",
     "height": 36
    },
    "id": "O_S908AjyY9s",
    "outputId": "2f038ef2-ed8e-4acb-c6c1-f053948698b4"
   },
   "outputs": [],
   "source": [
    "lemmatizer.lemmatize(\"history\")"
   ]
  },
  {
   "cell_type": "code",
   "execution_count": null,
   "metadata": {
    "colab": {
     "base_uri": "https://localhost:8080/",
     "height": 36
    },
    "id": "CazCSa6VyfcU",
    "outputId": "42d2e43b-7f40-452f-99b2-9168df27a9bc"
   },
   "outputs": [],
   "source": [
    "lemmatizer.lemmatize(\"congratulations\")"
   ]
  },
  {
   "cell_type": "markdown",
   "metadata": {
    "id": "_EOQwaNGnqDh"
   },
   "source": [
    "### Stopwords"
   ]
  },
  {
   "cell_type": "code",
   "execution_count": null,
   "metadata": {
    "id": "z1hvtFycmmMz"
   },
   "outputs": [],
   "source": [
    "## Speech Of DR APJ Abdul Kalam\n",
    "paragraph = \"\"\"I have three visions for India. In 3000 years of our history, people from all over\n",
    "               the world have come and invaded us, captured our lands, conquered our minds.\n",
    "               From Alexander onwards, the Greeks, the Turks, the Moguls, the Portuguese, the British,\n",
    "               the French, the Dutch, all of them came and looted us, took over what was ours.\n",
    "               Yet we have not done this to any other nation. We have not conquered anyone.\n",
    "               We have not grabbed their land, their culture,\n",
    "               their history and tried to enforce our way of life on them.\n",
    "               Why? Because we respect the freedom of others.That is why my\n",
    "               first vision is that of freedom. I believe that India got its first vision of\n",
    "               this in 1857, when we started the War of Independence. It is this freedom that\n",
    "               we must protect and nurture and build on. If we are not free, no one will respect us.\n",
    "               My second vision for India’s development. For fifty years we have been a developing nation.\n",
    "               It is time we see ourselves as a developed nation. We are among the top 5 nations of the world\n",
    "               in terms of GDP. We have a 10 percent growth rate in most areas. Our poverty levels are falling.\n",
    "               Our achievements are being globally recognised today. Yet we lack the self-confidence to\n",
    "               see ourselves as a developed nation, self-reliant and self-assured. Isn’t this incorrect?\n",
    "               I have a third vision. India must stand up to the world. Because I believe that unless India\n",
    "               stands up to the world, no one will respect us. Only strength respects strength. We must be\n",
    "               strong not only as a military power but also as an economic power. Both must go hand-in-hand.\n",
    "               My good fortune was to have worked with three great minds. Dr. Vikram Sarabhai of the Dept. of\n",
    "               space, Professor Satish Dhawan, who succeeded him and Dr. Brahm Prakash, father of nuclear material.\n",
    "               I was lucky to have worked with all three of them closely and consider this the great opportunity of my life.\n",
    "               I see four milestones in my career\"\"\""
   ]
  },
  {
   "cell_type": "code",
   "execution_count": null,
   "metadata": {
    "id": "-qxJgS5EoZ8R"
   },
   "outputs": [],
   "source": [
    "from nltk.stem import PorterStemmer"
   ]
  }
 ],
 "metadata": {
  "colab": {
   "provenance": []
  },
  "kernelspec": {
   "display_name": "Python 3 (ipykernel)",
   "language": "python",
   "name": "python3"
  },
  "language_info": {
   "codemirror_mode": {
    "name": "ipython",
    "version": 3
   },
   "file_extension": ".py",
   "mimetype": "text/x-python",
   "name": "python",
   "nbconvert_exporter": "python",
   "pygments_lexer": "ipython3",
   "version": "3.11.5"
  }
 },
 "nbformat": 4,
 "nbformat_minor": 1
}
