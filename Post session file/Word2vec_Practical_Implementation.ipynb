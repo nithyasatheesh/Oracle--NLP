{
 "cells": [
  {
   "cell_type": "code",
   "execution_count": null,
   "metadata": {
    "colab": {
     "base_uri": "https://localhost:8080/"
    },
    "id": "4EB1eqf3cQWb",
    "outputId": "d956f746-6f65-47af-c36c-4684664293da"
   },
   "outputs": [],
   "source": [
    "!pip install gensim"
   ]
  },
  {
   "cell_type": "code",
   "execution_count": null,
   "metadata": {
    "id": "5sUEjvcPcSjR"
   },
   "outputs": [],
   "source": [
    "import gensim"
   ]
  },
  {
   "cell_type": "code",
   "execution_count": null,
   "metadata": {
    "id": "UoddHebCccEA"
   },
   "outputs": [],
   "source": [
    "from gensim.models import Word2Vec, KeyedVectors"
   ]
  },
  {
   "cell_type": "code",
   "execution_count": null,
   "metadata": {
    "id": "AQIC5kRFchcP"
   },
   "outputs": [],
   "source": [
    "## References: https://stackoverflow.com/questions/46433778/import-googlenews-vectors-negative300-bin"
   ]
  },
  {
   "cell_type": "code",
   "execution_count": null,
   "metadata": {
    "colab": {
     "base_uri": "https://localhost:8080/"
    },
    "id": "CVglJxe7apz5",
    "outputId": "301a3478-51e9-40c9-f04b-27077e1f5fac"
   },
   "outputs": [],
   "source": [
    "import gensim.downloader as api\n",
    "\n",
    "wv = api.load('word2vec-google-news-300')\n",
    "\n",
    "vec_king = wv['king']"
   ]
  },
  {
   "cell_type": "code",
   "execution_count": null,
   "metadata": {
    "colab": {
     "base_uri": "https://localhost:8080/"
    },
    "id": "jmw-5y9ie_WZ",
    "outputId": "c15fd234-f180-474c-8f92-fa366919c371"
   },
   "outputs": [],
   "source": [
    "vec_king"
   ]
  },
  {
   "cell_type": "code",
   "execution_count": null,
   "metadata": {
    "colab": {
     "base_uri": "https://localhost:8080/"
    },
    "id": "AgGTA8SYmqBr",
    "outputId": "200cac1b-4b23-4e3b-eabb-e9e5c6512d57"
   },
   "outputs": [],
   "source": [
    "vec_king.shape"
   ]
  },
  {
   "cell_type": "code",
   "execution_count": null,
   "metadata": {
    "colab": {
     "base_uri": "https://localhost:8080/"
    },
    "id": "FvnKkPVxmvCr",
    "outputId": "cca46deb-13a0-4cf5-cbb3-849170116c9f"
   },
   "outputs": [],
   "source": [
    "wv['cricket']"
   ]
  },
  {
   "cell_type": "code",
   "execution_count": null,
   "metadata": {
    "id": "e54uZ09viYfb"
   },
   "outputs": [],
   "source": [
    "wv.most_similar('cricket')"
   ]
  },
  {
   "cell_type": "code",
   "execution_count": null,
   "metadata": {
    "colab": {
     "base_uri": "https://localhost:8080/"
    },
    "id": "vw5kiHNOik2z",
    "outputId": "38327b92-20e9-4b4a-8f3d-591c88b0a5af"
   },
   "outputs": [],
   "source": [
    "wv.most_similar('happy')"
   ]
  },
  {
   "cell_type": "code",
   "execution_count": null,
   "metadata": {
    "colab": {
     "base_uri": "https://localhost:8080/"
    },
    "id": "5H4XANCFiz7L",
    "outputId": "ade47469-1499-48ee-b6f0-893eec494a4e"
   },
   "outputs": [],
   "source": [
    "wv.similarity(\"hockey\",\"sports\")"
   ]
  },
  {
   "cell_type": "code",
   "execution_count": null,
   "metadata": {
    "id": "w7VVwVI8i90p"
   },
   "outputs": [],
   "source": [
    "vec=wv['king']-wv['man']+wv['woman']"
   ]
  },
  {
   "cell_type": "code",
   "execution_count": null,
   "metadata": {
    "id": "Yi--OSxMjH_R"
   },
   "outputs": [],
   "source": [
    "vec"
   ]
  },
  {
   "cell_type": "code",
   "execution_count": null,
   "metadata": {
    "id": "3PkeelKkjI8h"
   },
   "outputs": [],
   "source": [
    "wv.most_similar([vec])"
   ]
  },
  {
   "cell_type": "code",
   "execution_count": null,
   "metadata": {
    "id": "nAN01EbsjNQM"
   },
   "outputs": [],
   "source": []
  }
 ],
 "metadata": {
  "accelerator": "GPU",
  "colab": {
   "gpuType": "T4",
   "provenance": []
  },
  "kernelspec": {
   "display_name": "Python 3 (ipykernel)",
   "language": "python",
   "name": "python3"
  },
  "language_info": {
   "codemirror_mode": {
    "name": "ipython",
    "version": 3
   },
   "file_extension": ".py",
   "mimetype": "text/x-python",
   "name": "python",
   "nbconvert_exporter": "python",
   "pygments_lexer": "ipython3",
   "version": "3.11.5"
  }
 },
 "nbformat": 4,
 "nbformat_minor": 1
}
