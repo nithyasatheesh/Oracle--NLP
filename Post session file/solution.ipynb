{
 "cells": [
  {
   "cell_type": "code",
   "execution_count": null,
   "id": "62195d0c",
   "metadata": {},
   "outputs": [],
   "source": [
    "import pandas as pd\n",
    "import nltk\n",
    "import spacy\n",
    "from nltk.tokenize import word_tokenize\n",
    "from nltk.corpus import stopwords\n",
    "from nltk.stem import WordNetLemmatizer\n",
    "\n",
    "# Download necessary resources\n",
    "nltk.download('punkt')\n",
    "nltk.download('stopwords')\n",
    "nltk.download('wordnet')\n",
    "\n",
    "# Load spaCy model\n",
    "nlp = spacy.load(\"en_core_web_sm\")\n",
    "\n",
    "# Sample dataset: Customer Reviews\n",
    "data = {\n",
    "    \"Review_ID\": [1, 2, 3],\n",
    "    \"Customer_Review\": [\n",
    "        \"I absolutely love this product! It's amazing and works perfectly.\",\n",
    "        \"The item is okay, but the delivery was too slow.\",\n",
    "        \"Not happy with the product. The quality is bad and it's overpriced.\"\n",
    "    ]\n",
    "}\n",
    "\n",
    "# Convert dataset into a DataFrame\n",
    "df = pd.DataFrame(data)\n",
    "\n",
    "# Define Stopwords\n",
    "stop_words = set(stopwords.words('english'))\n",
    "\n",
    "# Define Lemmatizer\n",
    "lemmatizer = WordNetLemmatizer()\n",
    "\n",
    "# Function to Process Text\n",
    "def preprocess_text(text):\n",
    "    # Tokenization\n",
    "    tokens = word_tokenize(text.lower())  # Lowercase and tokenize\n",
    "\n",
    "    # Stopword Removal\n",
    "    tokens = [word for word in tokens if word not in stop_words and word.isalpha()]\n",
    "\n",
    "    # Lemmatization\n",
    "    lemmatized_tokens = [lemmatizer.lemmatize(word) for word in tokens]\n",
    "\n",
    "    return {\n",
    "        \"tokens\": tokens,\n",
    "        \"lemmatized_tokens\": lemmatized_tokens\n",
    "    }\n",
    "\n",
    "# Apply Processing\n",
    "df[\"Processed\"] = df[\"Customer_Review\"].apply(preprocess_text)\n",
    "\n",
    "# Display Processed Data\n",
    "import ace_tools as tools\n",
    "tools.display_dataframe_to_user(name=\"Processed Customer Reviews\", dataframe=df)\n"
   ]
  },
  {
   "cell_type": "code",
   "execution_count": null,
   "id": "82bb47c4",
   "metadata": {},
   "outputs": [],
   "source": []
  }
 ],
 "metadata": {
  "kernelspec": {
   "display_name": "Python 3 (ipykernel)",
   "language": "python",
   "name": "python3"
  },
  "language_info": {
   "codemirror_mode": {
    "name": "ipython",
    "version": 3
   },
   "file_extension": ".py",
   "mimetype": "text/x-python",
   "name": "python",
   "nbconvert_exporter": "python",
   "pygments_lexer": "ipython3",
   "version": "3.11.5"
  }
 },
 "nbformat": 4,
 "nbformat_minor": 5
}
