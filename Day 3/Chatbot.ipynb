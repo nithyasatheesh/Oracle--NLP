{
 "cells": [
  {
   "cell_type": "markdown",
   "metadata": {
    "id": "SbvTrwEJaMNP"
   },
   "source": [
    "## Import necessary libraries"
   ]
  },
  {
   "cell_type": "code",
   "execution_count": null,
   "metadata": {
    "id": "goYTgJ3CaMNP"
   },
   "outputs": [],
   "source": [
    "import io\n",
    "import random\n",
    "import string # to process standard python strings\n",
    "import warnings\n",
    "import numpy as np\n",
    "from sklearn.feature_extraction.text import TfidfVectorizer\n",
    "from sklearn.metrics.pairwise import cosine_similarity\n",
    "import warnings\n",
    "warnings.filterwarnings('ignore')"
   ]
  },
  {
   "cell_type": "code",
   "execution_count": null,
   "metadata": {
    "colab": {
     "base_uri": "https://localhost:8080/"
    },
    "id": "PzrrwSOWaMNR",
    "outputId": "42cd745c-2926-479a-9a6f-a8bc7930bc3e"
   },
   "outputs": [],
   "source": [
    "!pip install nltk"
   ]
  },
  {
   "cell_type": "markdown",
   "metadata": {
    "id": "MvlsVpMIaMNT"
   },
   "source": [
    "### Installing NLTK Packages\n",
    "\n",
    "\n"
   ]
  },
  {
   "cell_type": "code",
   "execution_count": null,
   "metadata": {
    "colab": {
     "base_uri": "https://localhost:8080/"
    },
    "id": "OCSnDZ8waMNU",
    "outputId": "c9331680-fea5-4a1f-c12e-8d8612669c93"
   },
   "outputs": [],
   "source": [
    "import nltk\n",
    "from nltk.stem import WordNetLemmatizer\n",
    "nltk.download('popular', quiet=True) # for downloading packages\n",
    "nltk.download('punkt') # first-time use only\n",
    "nltk.download('wordnet') # first-time use only"
   ]
  },
  {
   "cell_type": "code",
   "execution_count": null,
   "metadata": {
    "id": "A2OXRDsFaMNV"
   },
   "outputs": [],
   "source": [
    "f=open('chatbot.txt','r',errors = 'ignore')\n",
    "raw=f.read()\n",
    "raw = raw.lower()# converts to lowercase\n",
    "print(raw)"
   ]
  },
  {
   "cell_type": "markdown",
   "metadata": {
    "id": "wx2OFsLyaMNX"
   },
   "source": [
    "## Tokenisation"
   ]
  },
  {
   "cell_type": "code",
   "execution_count": null,
   "metadata": {
    "id": "tlE7WdSBaMNX"
   },
   "outputs": [],
   "source": [
    "sent_tokens = nltk.sent_tokenize(raw)# converts to list of sentences\n",
    "word_tokens = nltk.word_tokenize(raw)# converts to list of words"
   ]
  },
  {
   "cell_type": "code",
   "execution_count": null,
   "metadata": {
    "id": "nW3KH2TFaMNY"
   },
   "outputs": [],
   "source": [
    "lemmer = nltk.stem.WordNetLemmatizer()\n",
    "#WordNet is a semantically-oriented dictionary of English included in NLTK.\n",
    "def LemTokens(tokens):\n",
    "    return [lemmer.lemmatize(token) for token in tokens]\n",
    "\n",
    "remove_punct_dict = dict((ord(punct), None) for punct in string.punctuation)\n",
    "\n",
    "def LemNormalize(text):\n",
    "    return LemTokens(nltk.word_tokenize(text.lower().translate(remove_punct_dict)))"
   ]
  },
  {
   "cell_type": "code",
   "execution_count": null,
   "metadata": {
    "colab": {
     "base_uri": "https://localhost:8080/"
    },
    "id": "cB9y73mrjrUs",
    "outputId": "7885c6ae-5019-450c-8950-79d2e743511e"
   },
   "outputs": [],
   "source": [
    "remove_punct_dict"
   ]
  },
  {
   "cell_type": "code",
   "execution_count": null,
   "metadata": {
    "id": "hj76vpYfSXwI"
   },
   "outputs": [],
   "source": [
    "Greeting_inputs =(\"hello\", \"hi\", \"hey\")\n",
    "GREETING_RESPONSES = [\"I am glad\", \"hi\", \"welcome\"]"
   ]
  },
  {
   "cell_type": "code",
   "execution_count": null,
   "metadata": {
    "id": "23b3_SL-S1h4"
   },
   "outputs": [],
   "source": [
    "def greeting(sentence):\n",
    "  for word in sentence.split(\" \"):\n",
    "    if word.lower() in Greeting_inputs:\n",
    "      return random.choice(GREETING_RESPONSES)"
   ]
  },
  {
   "cell_type": "code",
   "execution_count": null,
   "metadata": {
    "id": "9XAvOJ9hTdVW"
   },
   "outputs": [],
   "source": [
    "def response2(user_response):\n",
    "  respond= \"\"\n",
    "  sent_tokens.append(user_response)\n",
    "  tfidfvec = TfidfVectorizer(tokenizer=LemNormalize, stop_words=\"english\")\n",
    "  tfidf = tfidfvec.fit_transform(sent_tokens)\n",
    "  vals = cosine_similarity(tfidf[-1], tfidf)\n",
    "  idx = vals.argsort()[0][-2]\n",
    "  flat = vals.flatten()\n",
    "  flat.sort()\n",
    "  req_tfidf = flat[-2]\n",
    "  if(req_tfidf==0):\n",
    "    respond= respond+\"I am sorry, i dont understand\"\n",
    "    return respond\n",
    "  else:\n",
    "    respond= respond + sent_tokens[idx]\n",
    "    return respond\n"
   ]
  },
  {
   "cell_type": "code",
   "execution_count": null,
   "metadata": {
    "id": "BxKmEu0zxkyv"
   },
   "outputs": [],
   "source": [
    "# from sklearn.feature_extraction.text import TfidfVectorizer\n",
    "\n",
    "# docs = [(\"Ukraine demands 15 year sentence for ousted President and former Paul Manafort \"\n",
    "#          'client, Viktor Yanukovych, accusing him of \"betraying his country\" to Russia.'),\n",
    "\n",
    "#         \"Officials worry Trump may back Erik Prince plan to privatize war in Afghanistan\",\n",
    "\n",
    "#         \"Donald Trump: U.S. 'Not Even Talking' To Canada About NAFTA\",\n",
    "\n",
    "#         \"Russia's first ever gay Pride banned within 24 hours of being announced\",\n",
    "\n",
    "#         'Trump is a \"Russian asset\" owned by the mafia, author claims in new book',\n",
    "\n",
    "#         (\"Special counsel Robert Mueller proposes 'well over' 1,000 pieces of evidence for \"\n",
    "#          \"next trial of ex-Trump campaign boss Paul Manafort: Attorneys\"),\n",
    "\n",
    "#         (\"China flat out denies the mass incarceration of Xinjiang’s Uyghurs as testimonies \"\n",
    "#          \"trickle out\"),\n",
    "\n",
    "#         \"Pentagon worried that U.S. might slide from trade war into actual war with China\",\n",
    "\n",
    "#         \"US says ready to sanction China for buying Iran's oil\",\n",
    "\n",
    "#         (\"Traders are heavily betting on a price decline in coffee as orange juice prices \"\n",
    "#          \"soar – all because of crops, currencies and the US/China trade war\")\n",
    "#        ]\n",
    "# tfidf_vectorizer = TfidfVectorizer(stop_words='english')\n",
    "# tfidf_matrix = tfidf_vectorizer.fit_transform(docs)\n",
    "\n",
    "# vals = cosine_similarity(tfidf_matrix[-1], tfidf_matrix)\n",
    "# idx = vals.argsort()[0][-2]\n",
    "# idx"
   ]
  },
  {
   "cell_type": "code",
   "execution_count": null,
   "metadata": {
    "id": "PhcC3JJk1MiT"
   },
   "outputs": [],
   "source": [
    "# query = \"Paul Manafort Trump and Russia\"\n",
    "# query_vector = tfidf_vectorizer.transform([query])\n",
    "# cosine_similarity(query_vector, tfidf_matrix)"
   ]
  },
  {
   "cell_type": "code",
   "execution_count": null,
   "metadata": {
    "colab": {
     "base_uri": "https://localhost:8080/"
    },
    "id": "k_QKc1cIWtfq",
    "outputId": "4b24cacf-fab8-41a0-fef8-37daebe0833b"
   },
   "outputs": [],
   "source": [
    "flag=True\n",
    "\n",
    "print(\"Siri : My name is siri\")\n",
    "while(flag==True):\n",
    "  response1= input()\n",
    "  response1= response1.lower()\n",
    "  if(response1!=\"bye\"):\n",
    "    if(response1==\"thanks\" or response1==\"thank you\"):\n",
    "      flag=False\n",
    "      print(\"Siri : u r welcome\")\n",
    "    else:\n",
    "      if(greeting(response1)!=None):\n",
    "        print(\"Siri :\"+ greeting(response1))\n",
    "      else:\n",
    "        print(\"Siri: \", end=\"\")\n",
    "        print(response2(response1))\n",
    "        sent_tokens.remove(response1)\n",
    "  else:\n",
    "    flag= False\n",
    "    print(\"bye tc\")"
   ]
  },
  {
   "cell_type": "code",
   "execution_count": null,
   "metadata": {},
   "outputs": [],
   "source": [
    "import nltk\n",
    "import random\n",
    "import string\n",
    "import numpy as np\n",
    "from sklearn.feature_extraction.text import TfidfVectorizer\n",
    "from sklearn.metrics.pairwise import cosine_similarity\n",
    "\n",
    "# Download necessary resources\n",
    "nltk.download('punkt')  # Sentence tokenizer\n",
    "nltk.download('wordnet')  # WordNet for lemmatization\n",
    "\n",
    "# Sample data corpus (replace with FAQs, Wikipedia text, etc.)\n",
    "data_corpus = \"\"\"Hello! How can I assist you today?\n",
    "                I am a chatbot. I can answer your questions about general topics.\n",
    "                Machine learning is a subset of artificial intelligence.\n",
    "                Python is a popular programming language for AI and data science.\n",
    "                Neural networks are used in deep learning for pattern recognition.\n",
    "                Recurrent Neural Networks (RNNs) are useful for sequence-based tasks.\n",
    "                The capital of France is Paris.\n",
    "                Natural Language Processing (NLP) enables machines to understand human language.\n",
    "                Thank you for talking with me. Have a great day!\"\"\"\n",
    "\n",
    "# Tokenizing the data into sentences\n",
    "sent_tokens = nltk.sent_tokenize(data_corpus)\n",
    "\n",
    "# Function to respond to greetings\n",
    "def greeting(sentence):\n",
    "    greetings = [\"hello\", \"hi\", \"hey\", \"greetings\", \"what's up\"]\n",
    "    responses = [\"Hello!\", \"Hi there!\", \"Hey!\", \"Greetings!\", \"How can I assist you?\"]\n",
    "    for word in sentence.split():\n",
    "        if word.lower() in greetings:\n",
    "            return random.choice(responses)\n",
    "    return None\n",
    "\n",
    "# Function to generate chatbot responses\n",
    "def response2(user_input):\n",
    "    sent_tokens.append(user_input)  # Add user input to the tokenized data\n",
    "    vectorizer = TfidfVectorizer(stop_words='english')\n",
    "    tfidf_matrix = vectorizer.fit_transform(sent_tokens)\n",
    "    similarity_scores = cosine_similarity(tfidf_matrix[-1], tfidf_matrix[:-1])  \n",
    "    # Compare with previous sentences\n",
    "    index = np.argmax(similarity_scores)  # Find the best match\n",
    "    best_response = sent_tokens[index]\n",
    "    \n",
    "    sent_tokens.pop()  # Remove user input from the tokens list\n",
    "    return best_response\n",
    "\n",
    "# Chatbot main loop\n",
    "flag = True\n",
    "print(\"Siri: My name is Siri. Ask me anything!\")\n",
    "\n",
    "while flag:\n",
    "    user_input = input()\n",
    "    user_input = user_input.lower()\n",
    "    \n",
    "    if user_input != \"bye\":\n",
    "        if user_input in [\"thanks\", \"thank you\"]:\n",
    "            flag = False\n",
    "            print(\"Siri: You're welcome!\")\n",
    "        else:\n",
    "            greeting_response = greeting(user_input)\n",
    "            if greeting_response is not None:\n",
    "                print(\"Siri:\", greeting_response)\n",
    "            else:\n",
    "                print(\"Siri:\", response2(user_input))\n",
    "    else:\n",
    "        flag = False\n",
    "        print(\"Siri: Bye! Take care.\")\n"
   ]
  },
  {
   "cell_type": "code",
   "execution_count": null,
   "metadata": {},
   "outputs": [],
   "source": []
  },
  {
   "cell_type": "code",
   "execution_count": null,
   "metadata": {},
   "outputs": [],
   "source": []
  }
 ],
 "metadata": {
  "colab": {
   "provenance": []
  },
  "kernelspec": {
   "display_name": "Python 3 (ipykernel)",
   "language": "python",
   "name": "python3"
  },
  "language_info": {
   "codemirror_mode": {
    "name": "ipython",
    "version": 3
   },
   "file_extension": ".py",
   "mimetype": "text/x-python",
   "name": "python",
   "nbconvert_exporter": "python",
   "pygments_lexer": "ipython3",
   "version": "3.11.5"
  }
 },
 "nbformat": 4,
 "nbformat_minor": 1
}
