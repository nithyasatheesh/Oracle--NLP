{
 "cells": [
  {
   "cell_type": "markdown",
   "id": "11767e30",
   "metadata": {},
   "source": [
    "### How to tokenize a given text?\n",
    "\n",
    "Print the tokens of the given text document\n",
    "\n",
    "Input :\n",
    "\n",
    "text=\"Last week, the University of Cambridge shared its own research that shows if everyone wears a mask outside home,dreaded ‘second wave’ of the pandemic can be avoided.\""
   ]
  },
  {
   "cell_type": "markdown",
   "id": "940e7405",
   "metadata": {},
   "source": [
    "####  Remove all the stopwords ( ‘a’ , ‘the’, ‘was’…) from the text\n",
    "\n",
    "Input :\n",
    "\n",
    "text=\"\"\"the outbreak of coronavirus disease 2019 (COVID-19) has created a global health crisis that has had a deep impact on the way we perceive our world and our everyday lives. Not only the rate of contagion and patterns of transmission threatens our sense of agency, but the safety measures put in place to contain the spread of the virus also require social distancing by refraining from doing what is inherently human, which is to find solace in the company of others. Within this context of physical threat, social and physical distancing, as well as public alarm, what has been (and can be) the role of the different mass media channels in our lives on individual, social and societal levels? Mass media have long been recognized as powerful forces shaping how we experience the world and ourselves. This recognition is accompanied by a growing volume of research, that closely follows the footsteps of technological transformations (e.g. radio, movies, television, the internet, mobiles) and the zeitgeist (e.g. cold war, 9/11, climate change) in an attempt to map mass media major impacts on how we perceive ourselves, both as individuals and citizens. Are media (broadcast and digital) still able to convey a sense of unity reaching large audiences, or are messages lost in the noisy crowd of mass self-communication? \"\"\""
   ]
  },
  {
   "cell_type": "markdown",
   "id": "6dee37b6",
   "metadata": {},
   "source": [
    "#### Remove all the punctuations in the given text\n",
    "\n",
    "Input :\n",
    "\n",
    "text=\"The match has concluded !!! India has won the match . Will we fin the finals too ? !\"\n",
    "Desired Output :\n",
    "\n",
    "'The match has concluded India has won the match Will we fin the finals too'"
   ]
  },
  {
   "cell_type": "markdown",
   "id": "794842b2",
   "metadata": {},
   "source": [
    "#### Perform lemmatzation on the given text\n",
    "\n",
    "\n",
    "Hint: Lemmatization Approaches\n",
    "\n",
    "Input:\n",
    "\n",
    "text= \"Dancing is an art. Students should be taught dance as a subject in schools . I danced in many of my school function. Some people are always hesitating to dance.\"\n",
    "Desired Output:\n",
    "\n",
    "text= 'dancing be an art . student should be teach dance as a subject in school . -PRON- dance in many of -PRON- school function . some people be always hesitate to dance .'"
   ]
  },
  {
   "cell_type": "markdown",
   "id": "3c997ec2",
   "metadata": {},
   "source": [
    "#### Extract and print all the nouns present in the below text\n",
    "\n",
    "Input:\n",
    "\n",
    "text=\"James works at Microsoft. She lives in manchester and likes to play the flute\"\n",
    "\n",
    "Desired Output :\n",
    "\n",
    "James\n",
    "Microsoft\n",
    "manchester\n",
    "flute"
   ]
  },
  {
   "cell_type": "code",
   "execution_count": null,
   "id": "3208d301",
   "metadata": {},
   "outputs": [],
   "source": []
  },
  {
   "cell_type": "code",
   "execution_count": null,
   "id": "694e427b",
   "metadata": {},
   "outputs": [],
   "source": []
  },
  {
   "cell_type": "markdown",
   "id": "e4f6e072",
   "metadata": {},
   "source": [
    "Customer Complaint Classification in the Banking Domain Using Machine Learning\n",
    "Business Requirement\n",
    "\n",
    "A major bank receives thousands of customer complaints daily via emails, online chat support, and social media. Manually reviewing and categorizing these complaints into different service categories (e.g., loan issues, fraud complaints, account errors) is inefficient and costly.\n",
    "\n",
    "The bank seeks an automated solution to classify customer complaints into predefined categories using Natural Language Processing (NLP) and Machine Learning (ML)."
   ]
  },
  {
   "cell_type": "markdown",
   "id": "223103fb",
   "metadata": {},
   "source": [
    "Objectives\n",
    "\n",
    "Build an ML-based model to classify customer complaints into service categories.\n",
    "\n",
    "Improve customer service efficiency by automatically routing complaints to the correct department.\n",
    "\n",
    "Identify trending complaint categories for better customer service insights."
   ]
  },
  {
   "cell_type": "markdown",
   "id": "102c5e7c",
   "metadata": {},
   "source": [
    "- Load the data\n",
    "- Preprocess text (remove stopwords, lowercase, and tokenize)\n",
    "- Convert text to numerical features using TF-IDF\n",
    "- Train a machine learning classifier (Logistic Regression)\n",
    "- Evaluate model performance"
   ]
  },
  {
   "cell_type": "code",
   "execution_count": 1,
   "id": "7d0f9697",
   "metadata": {},
   "outputs": [],
   "source": [
    "#dataset: bank_complaints.csv"
   ]
  },
  {
   "cell_type": "code",
   "execution_count": null,
   "id": "c3597509",
   "metadata": {},
   "outputs": [],
   "source": []
  },
  {
   "cell_type": "markdown",
   "id": "1869d70d",
   "metadata": {},
   "source": [
    "#### Extract the the topics from the given texts with the help of LDA(Latent dirichlet algorithm)\n",
    "\n",
    "Input :\n",
    "\n",
    "texts= [\"\"\"It's all about travel. I travel a lot.  those who do not travel read only a page.” – said Saint Augustine. He was a great travel person. Travelling can teach you more than any university course. You learn about the culture of the country you visit. If you talk to locals, you will likely learn about their thinking, habits, traditions and history as well.If you travel, you will not only learn about foreign cultures, but about your own as well. You will notice the cultural differences, and will find out what makes your culture unique. After retrurning from a long journey, you will see your country with new eyes.\"\"\",\n",
    "        \"\"\" You can learn a lot about yourself through travelling. You can observe how you feel beeing far from your country. You will find out how you feel about your homeland.You should travel You will realise how you really feel about foreign people. You will find out how much you know/do not know about the world. You will be able to observe how you react in completely new situations. You will test your language, orientational and social skills. You will not be the same person after returning home.During travelling you will meet people that are very different from you. If you travel enough, you will learn to accept and appreciate these differences. Traveling makes you more open and accepting.\"\"\",\n",
    "        \"\"\"Some of my most cherished memories are from the times when I was travelling. If you travel, you can experience things that you could never experience at home. You may see beautiful places and landscapes that do not exist where you live. You may meet people that will change your life, and your thingking. You may try activities that you have never tried before.Travelling will inevitably make you more independent and confident. You will realise that you can cope with a lot of unexpected situations. You will realise that you can survive without all that help that is always available for you at home. You will likely find out that you are much stronger and braver than you have expected.\"\"\",\n",
    "        \"\"\"If you travel, you may learn a lot of useful things. These things can be anything from a new recepie, to a new, more effective solution to an ordinary problem or a new way of creating something.Even if you go to a country where they speak the same language as you, you may still learn some new words and expressions that are only used there. If you go to a country where they speak a different language, you will learn even more.\"\"\",\n",
    "        \"\"\"After arriving home from a long journey, a lot of travellers experience that they are much more motivated than they were before they left. During your trip you may learn things that you will want to try at home as well. You may want to test your new skills and knowledge. Your experiences will give you a lot of energy.During travelling you may experience the craziest, most exciting things, that will eventually become great stories that you can tell others. When you grow old and look back at your life and all your travel experiences, you will realise how much you have done in your life and your life was not in vain. It can provide you with happiness and satisfaction for the rest of your life.\"\"\",\n",
    "        \"\"\"The benefits of travel are not just a one-time thing: travel changes you physically and psychologically. Having little time or money isn't a valid excuse. You can travel for cheap very easily. If you have a full-time job and a family, you can still travel on the weekends or holidays, even with a baby. travel  more is likely to have a tremendous impact on your mental well-being, especially if you're no used to going out of your comfort zone. Trust me: travel more and your doctor will be happy. Be sure to get in touch with your physician, they might recommend some medication to accompany you in your travels, especially if you're heading to regions of the globe with potentially dangerous diseases.\"\"\",\n",
    "        \"\"\"Sure, you probably feel comfortable where you are, but that is just a fraction of the world! If you are a student, take advantage of programs such as Erasmus to get to know more people, experience and understand their culture. Dare traveling to regions you have a skeptical opinion about. I bet that you will change your mind and realize that everything is not so bad abroad.\"\"\",\n",
    "        \"\"\" So, travel makes you cherish life. Let's travel more . Share your travel diaries with us too\"\"\"\n",
    "        ]\n",
    "\n",
    "Desired Output :\n",
    "\n",
    "[(0, '0.068*\"travel\" + 0.044*\"learn\" + 0.027*\"country\" + 0.027*\"If\" + 0.026*\"find\"'), (1, '0.054*\"may\" + 0.036*\"realise\" + 0.036*\"home\" + 0.036*\"experience\" + 0.036*\"never\"'), (2, '0.047*\"may\" + 0.044*\"life\" + 0.039*\"new\" + 0.036*\"things\" + 0.032*\"learn\"'), (3, '0.031*\"If\" + 0.031*\"people\" + 0.031*\"I\" + 0.031*\"world\" + 0.031*\"know\"'), (4, '0.085*\"travel\" + 0.042*\"\\'\" + 0.042*\"-\" + 0.042*\"time\" + 0.028*\"especially\"')]\n"
   ]
  },
  {
   "cell_type": "code",
   "execution_count": null,
   "id": "4482d42f",
   "metadata": {},
   "outputs": [],
   "source": []
  },
  {
   "cell_type": "code",
   "execution_count": null,
   "id": "59ecd95a",
   "metadata": {},
   "outputs": [],
   "source": []
  },
  {
   "cell_type": "markdown",
   "id": "788e8652",
   "metadata": {},
   "source": [
    "Extract the the topics from the given texts with the help of NMF(Non-negative Matrix Factorization method)\n",
    "\n",
    "Input :\n",
    "\n",
    "texts= [\"\"\"It's all about travel. I travel a lot.  those who do not travel read only a page.” – said Saint Augustine. He was a great travel person. Travelling can teach you more than any university course. You learn about the culture of the country you visit. If you talk to locals, you will likely learn about their thinking, habits, traditions and history as well.If you travel, you will not only learn about foreign cultures, but about your own as well. You will notice the cultural differences, and will find out what makes your culture unique. After retrurning from a long journey, you will see your country with new eyes.\"\"\",\n",
    "        \"\"\" You can learn a lot about yourself through travelling. You can observe how you feel beeing far from your country. You will find out how you feel about your homeland.You should travel You will realise how you really feel about foreign people. You will find out how much you know/do not know about the world. You will be able to observe how you react in completely new situations. You will test your language, orientational and social skills. You will not be the same person after returning home.During travelling you will meet people that are very different from you. If you travel enough, you will learn to accept and appreciate these differences. Traveling makes you more open and accepting.\"\"\",\n",
    "        \"\"\"Some of my most cherished memories are from the times when I was travelling. If you travel, you can experience things that you could never experience at home. You may see beautiful places and landscapes that do not exist where you live. You may meet people that will change your life, and your thingking. You may try activities that you have never tried before.Travelling will inevitably make you more independent and confident. You will realise that you can cope with a lot of unexpected situations. You will realise that you can survive without all that help that is always available for you at home. You will likely find out that you are much stronger and braver than you have expected.\"\"\",\n",
    "        \"\"\"If you travel, you may learn a lot of useful things. These things can be anything from a new recepie, to a new, more effective solution to an ordinary problem or a new way of creating something.Even if you go to a country where they speak the same language as you, you may still learn some new words and expressions that are only used there. If you go to a country where they speak a different language, you will learn even more.\"\"\",\n",
    "        \"\"\"After arriving home from a long journey, a lot of travellers experience that they are much more motivated than they were before they left. During your trip you may learn things that you will want to try at home as well. You may want to test your new skills and knowledge. Your experiences will give you a lot of energy.During travelling you may experience the craziest, most exciting things, that will eventually become great stories that you can tell others. When you grow old and look back at your life and all your travel experiences, you will realise how much you have done in your life and your life was not in vain. It can provide you with happiness and satisfaction for the rest of your life.\"\"\",\n",
    "        \"\"\"The benefits of travel are not just a one-time thing: travel changes you physically and psychologically. Having little time or money isn't a valid excuse. You can travel for cheap very easily. If you have a full-time job and a family, you can still travel on the weekends or holidays, even with a baby. travel  more is likely to have a tremendous impact on your mental well-being, especially if you're no used to going out of your comfort zone. Trust me: travel more and your doctor will be happy. Be sure to get in touch with your physician, they might recommend some medication to accompany you in your travels, especially if you're heading to regions of the globe with potentially dangerous diseases.\"\"\",\n",
    "        \"\"\"Sure, you probably feel comfortable where you are, but that is just a fraction of the world! If you are a student, take advantage of programs such as Erasmus to get to know more people, experience and understand their culture. Dare traveling to regions you have a skeptical opinion about. I bet that you will change your mind and realize that everything is not so bad abroad.\"\"\",\n",
    "        \"\"\" So, travel makes you cherish life. Let's travel more . Share your travel diaries with us too\"\"\"\n",
    "        ]\n",
    "  \n",
    "Desired Output:\n",
    "\n",
    " Topic 0:\n",
    " [('new', 0.6329770846997606), ('learn', 0.49810389825931783), ('speak', 0.47477546214544547), ('language', 0.43443029670471806), ('country', 0.36653909845383115), ('things', 0.3433223730439043)]\n",
    " Topic 1:\n",
    " [('life', 0.34063551920788737), ('home', 0.31402014643240667), ('experience', 0.3025841622571281), ('realise', 0.24642870225288288), ('travelling', 0.2180915553025073), ('things', 0.2076347895889257)]\n",
    " Topic 2:\n",
    " [('feel', 0.3462484013922396), ('know', 0.28400088182008115), ('people', 0.2431266883545085), ('world', 0.22169277349692076), ('traveling', 0.22169277349692076), ('bet', 0.18671974365540467)]\n",
    "...(truncated)\n",
    "\n"
   ]
  },
  {
   "cell_type": "code",
   "execution_count": null,
   "id": "df0cf2ce",
   "metadata": {},
   "outputs": [],
   "source": []
  }
 ],
 "metadata": {
  "kernelspec": {
   "display_name": "Python 3 (ipykernel)",
   "language": "python",
   "name": "python3"
  },
  "language_info": {
   "codemirror_mode": {
    "name": "ipython",
    "version": 3
   },
   "file_extension": ".py",
   "mimetype": "text/x-python",
   "name": "python",
   "nbconvert_exporter": "python",
   "pygments_lexer": "ipython3",
   "version": "3.11.5"
  }
 },
 "nbformat": 4,
 "nbformat_minor": 5
}
